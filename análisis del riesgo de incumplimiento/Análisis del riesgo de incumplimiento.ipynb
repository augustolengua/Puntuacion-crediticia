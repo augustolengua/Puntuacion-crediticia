{
 "cells": [
  {
   "cell_type": "markdown",
   "metadata": {},
   "source": [
    "# Análisis del riesgo de incumplimiento de los prestatarios\n",
    "\n",
    "El proyecto consiste en preparar un informe para la división de préstamos de un banco. Averiguaremosr si el estado civil y el número de hijos de un cliente tienen un impacto en el incumplimiento de pago de un préstamo. El banco ya tiene algunos datos sobre la solvencia crediticia de los clientes.\n",
    "\n",
    "Se creará una **puntuación de crédito** para un cliente potencial. La **puntuación de crédito** se utiliza para evaluar la capacidad de un prestatario potencial para pagar su préstamo.\n",
    "\n",
    "La finalidad del proyecto es verificar si hay una relación entre el pago a tiempo de un préstamo y la cantidad de hijos, estado civil, el nivel de ingresos o el propósito del préstamo."
   ]
  },
  {
   "cell_type": "markdown",
   "metadata": {},
   "source": [
    " **Indice del contenido**\n",
    "\n",
    "1. Carga de información general\n",
    "2. Exploración de datos\n",
    "3. Transformación de datos\n",
    "    3.1 Restauración de valores erróneos en 'children'\n",
    "    3.2 Restauración de valores ausentes en 'total_income'\n",
    "    3.3 Restauración de valores en 'days_employed'\n",
    "4. Clasificación de datos\n",
    "5. Hipótesis\n",
    "6. Conclusión general"
   ]
  },
  {
   "cell_type": "markdown",
   "metadata": {},
   "source": [
    "## Abre el archivo de datos y mira la información general. \n"
   ]
  },
  {
   "cell_type": "code",
   "execution_count": 1,
   "metadata": {},
   "outputs": [],
   "source": [
    "# Cargar todas las librerías\n",
    "import pandas as pd\n",
    "import numpy as np"
   ]
  },
  {
   "cell_type": "code",
   "execution_count": 2,
   "metadata": {},
   "outputs": [
    {
     "name": "stdout",
     "output_type": "stream",
     "text": [
      "<class 'pandas.core.frame.DataFrame'>\n",
      "RangeIndex: 21525 entries, 0 to 21524\n",
      "Data columns (total 12 columns):\n",
      " #   Column            Non-Null Count  Dtype  \n",
      "---  ------            --------------  -----  \n",
      " 0   children          21525 non-null  int64  \n",
      " 1   days_employed     19351 non-null  float64\n",
      " 2   dob_years         21525 non-null  int64  \n",
      " 3   education         21525 non-null  object \n",
      " 4   education_id      21525 non-null  int64  \n",
      " 5   family_status     21525 non-null  object \n",
      " 6   family_status_id  21525 non-null  int64  \n",
      " 7   gender            21525 non-null  object \n",
      " 8   income_type       21525 non-null  object \n",
      " 9   debt              21525 non-null  int64  \n",
      " 10  total_income      19351 non-null  float64\n",
      " 11  purpose           21525 non-null  object \n",
      "dtypes: float64(2), int64(5), object(5)\n",
      "memory usage: 2.0+ MB\n"
     ]
    }
   ],
   "source": [
    "# Carga los datos\n",
    "try:\n",
    "    dataset=pd.read_csv('/credit_scoring_eng.csv')\n",
    "except:\n",
    "    dataset=pd.read_csv('/datasets/credit_scoring_eng.csv')\n",
    "    \n",
    "dataset.info()"
   ]
  },
  {
   "cell_type": "markdown",
   "metadata": {},
   "source": [
    "## Ejercicio 1. Exploración de datos\n",
    "\n",
    "**Descripción de los datos**\n",
    "- `children` - el número de hijos en la familia\n",
    "- `days_employed` - experiencia laboral en días\n",
    "- `dob_years` - la edad del cliente en años\n",
    "- `education` - la educación del cliente\n",
    "- `education_id` - identificador de educación\n",
    "- `family_status` - estado civil\n",
    "- `family_status_id` - identificador de estado civil\n",
    "- `gender` - género del cliente\n",
    "- `income_type` - tipo de empleo\n",
    "- `debt` - ¿había alguna deuda en el pago de un préstamo?\n",
    "- `total_income` - ingreso mensual\n",
    "- `purpose` - el propósito de obtener un préstamo\n"
   ]
  },
  {
   "cell_type": "code",
   "execution_count": 3,
   "metadata": {},
   "outputs": [
    {
     "name": "stdout",
     "output_type": "stream",
     "text": [
      "Número de filas: 21525\n",
      "Número de columnas: 12\n"
     ]
    }
   ],
   "source": [
    "# Vamos a ver cuántas filas y columnas tiene nuestro conjunto de datos\n",
    "filas = len(dataset.axes[0]) \n",
    "columnas = len(dataset.axes[1]) \n",
    "  \n",
    "print('Número de filas: ' + str(filas)) \n",
    "print('Número de columnas: ' + str(columnas)) "
   ]
  },
  {
   "cell_type": "code",
   "execution_count": 4,
   "metadata": {
    "scrolled": true
   },
   "outputs": [
    {
     "data": {
      "text/html": [
       "<div>\n",
       "<style scoped>\n",
       "    .dataframe tbody tr th:only-of-type {\n",
       "        vertical-align: middle;\n",
       "    }\n",
       "\n",
       "    .dataframe tbody tr th {\n",
       "        vertical-align: top;\n",
       "    }\n",
       "\n",
       "    .dataframe thead th {\n",
       "        text-align: right;\n",
       "    }\n",
       "</style>\n",
       "<table border=\"1\" class=\"dataframe\">\n",
       "  <thead>\n",
       "    <tr style=\"text-align: right;\">\n",
       "      <th></th>\n",
       "      <th>children</th>\n",
       "      <th>days_employed</th>\n",
       "      <th>dob_years</th>\n",
       "      <th>education</th>\n",
       "      <th>education_id</th>\n",
       "      <th>family_status</th>\n",
       "      <th>family_status_id</th>\n",
       "      <th>gender</th>\n",
       "      <th>income_type</th>\n",
       "      <th>debt</th>\n",
       "      <th>total_income</th>\n",
       "      <th>purpose</th>\n",
       "    </tr>\n",
       "  </thead>\n",
       "  <tbody>\n",
       "    <tr>\n",
       "      <th>0</th>\n",
       "      <td>1</td>\n",
       "      <td>-8437.673028</td>\n",
       "      <td>42</td>\n",
       "      <td>bachelor's degree</td>\n",
       "      <td>0</td>\n",
       "      <td>married</td>\n",
       "      <td>0</td>\n",
       "      <td>F</td>\n",
       "      <td>employee</td>\n",
       "      <td>0</td>\n",
       "      <td>40620.102</td>\n",
       "      <td>purchase of the house</td>\n",
       "    </tr>\n",
       "    <tr>\n",
       "      <th>1</th>\n",
       "      <td>1</td>\n",
       "      <td>-4024.803754</td>\n",
       "      <td>36</td>\n",
       "      <td>secondary education</td>\n",
       "      <td>1</td>\n",
       "      <td>married</td>\n",
       "      <td>0</td>\n",
       "      <td>F</td>\n",
       "      <td>employee</td>\n",
       "      <td>0</td>\n",
       "      <td>17932.802</td>\n",
       "      <td>car purchase</td>\n",
       "    </tr>\n",
       "    <tr>\n",
       "      <th>2</th>\n",
       "      <td>0</td>\n",
       "      <td>-5623.422610</td>\n",
       "      <td>33</td>\n",
       "      <td>Secondary Education</td>\n",
       "      <td>1</td>\n",
       "      <td>married</td>\n",
       "      <td>0</td>\n",
       "      <td>M</td>\n",
       "      <td>employee</td>\n",
       "      <td>0</td>\n",
       "      <td>23341.752</td>\n",
       "      <td>purchase of the house</td>\n",
       "    </tr>\n",
       "    <tr>\n",
       "      <th>3</th>\n",
       "      <td>3</td>\n",
       "      <td>-4124.747207</td>\n",
       "      <td>32</td>\n",
       "      <td>secondary education</td>\n",
       "      <td>1</td>\n",
       "      <td>married</td>\n",
       "      <td>0</td>\n",
       "      <td>M</td>\n",
       "      <td>employee</td>\n",
       "      <td>0</td>\n",
       "      <td>42820.568</td>\n",
       "      <td>supplementary education</td>\n",
       "    </tr>\n",
       "    <tr>\n",
       "      <th>4</th>\n",
       "      <td>0</td>\n",
       "      <td>340266.072047</td>\n",
       "      <td>53</td>\n",
       "      <td>secondary education</td>\n",
       "      <td>1</td>\n",
       "      <td>civil partnership</td>\n",
       "      <td>1</td>\n",
       "      <td>F</td>\n",
       "      <td>retiree</td>\n",
       "      <td>0</td>\n",
       "      <td>25378.572</td>\n",
       "      <td>to have a wedding</td>\n",
       "    </tr>\n",
       "    <tr>\n",
       "      <th>5</th>\n",
       "      <td>0</td>\n",
       "      <td>-926.185831</td>\n",
       "      <td>27</td>\n",
       "      <td>bachelor's degree</td>\n",
       "      <td>0</td>\n",
       "      <td>civil partnership</td>\n",
       "      <td>1</td>\n",
       "      <td>M</td>\n",
       "      <td>business</td>\n",
       "      <td>0</td>\n",
       "      <td>40922.170</td>\n",
       "      <td>purchase of the house</td>\n",
       "    </tr>\n",
       "    <tr>\n",
       "      <th>6</th>\n",
       "      <td>0</td>\n",
       "      <td>-2879.202052</td>\n",
       "      <td>43</td>\n",
       "      <td>bachelor's degree</td>\n",
       "      <td>0</td>\n",
       "      <td>married</td>\n",
       "      <td>0</td>\n",
       "      <td>F</td>\n",
       "      <td>business</td>\n",
       "      <td>0</td>\n",
       "      <td>38484.156</td>\n",
       "      <td>housing transactions</td>\n",
       "    </tr>\n",
       "    <tr>\n",
       "      <th>7</th>\n",
       "      <td>0</td>\n",
       "      <td>-152.779569</td>\n",
       "      <td>50</td>\n",
       "      <td>SECONDARY EDUCATION</td>\n",
       "      <td>1</td>\n",
       "      <td>married</td>\n",
       "      <td>0</td>\n",
       "      <td>M</td>\n",
       "      <td>employee</td>\n",
       "      <td>0</td>\n",
       "      <td>21731.829</td>\n",
       "      <td>education</td>\n",
       "    </tr>\n",
       "    <tr>\n",
       "      <th>8</th>\n",
       "      <td>2</td>\n",
       "      <td>-6929.865299</td>\n",
       "      <td>35</td>\n",
       "      <td>BACHELOR'S DEGREE</td>\n",
       "      <td>0</td>\n",
       "      <td>civil partnership</td>\n",
       "      <td>1</td>\n",
       "      <td>F</td>\n",
       "      <td>employee</td>\n",
       "      <td>0</td>\n",
       "      <td>15337.093</td>\n",
       "      <td>having a wedding</td>\n",
       "    </tr>\n",
       "    <tr>\n",
       "      <th>9</th>\n",
       "      <td>0</td>\n",
       "      <td>-2188.756445</td>\n",
       "      <td>41</td>\n",
       "      <td>secondary education</td>\n",
       "      <td>1</td>\n",
       "      <td>married</td>\n",
       "      <td>0</td>\n",
       "      <td>M</td>\n",
       "      <td>employee</td>\n",
       "      <td>0</td>\n",
       "      <td>23108.150</td>\n",
       "      <td>purchase of the house for my family</td>\n",
       "    </tr>\n",
       "  </tbody>\n",
       "</table>\n",
       "</div>"
      ],
      "text/plain": [
       "   children  days_employed  dob_years            education  education_id  \\\n",
       "0         1   -8437.673028         42    bachelor's degree             0   \n",
       "1         1   -4024.803754         36  secondary education             1   \n",
       "2         0   -5623.422610         33  Secondary Education             1   \n",
       "3         3   -4124.747207         32  secondary education             1   \n",
       "4         0  340266.072047         53  secondary education             1   \n",
       "5         0    -926.185831         27    bachelor's degree             0   \n",
       "6         0   -2879.202052         43    bachelor's degree             0   \n",
       "7         0    -152.779569         50  SECONDARY EDUCATION             1   \n",
       "8         2   -6929.865299         35    BACHELOR'S DEGREE             0   \n",
       "9         0   -2188.756445         41  secondary education             1   \n",
       "\n",
       "       family_status  family_status_id gender income_type  debt  total_income  \\\n",
       "0            married                 0      F    employee     0     40620.102   \n",
       "1            married                 0      F    employee     0     17932.802   \n",
       "2            married                 0      M    employee     0     23341.752   \n",
       "3            married                 0      M    employee     0     42820.568   \n",
       "4  civil partnership                 1      F     retiree     0     25378.572   \n",
       "5  civil partnership                 1      M    business     0     40922.170   \n",
       "6            married                 0      F    business     0     38484.156   \n",
       "7            married                 0      M    employee     0     21731.829   \n",
       "8  civil partnership                 1      F    employee     0     15337.093   \n",
       "9            married                 0      M    employee     0     23108.150   \n",
       "\n",
       "                               purpose  \n",
       "0                purchase of the house  \n",
       "1                         car purchase  \n",
       "2                purchase of the house  \n",
       "3              supplementary education  \n",
       "4                    to have a wedding  \n",
       "5                purchase of the house  \n",
       "6                 housing transactions  \n",
       "7                            education  \n",
       "8                     having a wedding  \n",
       "9  purchase of the house for my family  "
      ]
     },
     "execution_count": 4,
     "metadata": {},
     "output_type": "execute_result"
    }
   ],
   "source": [
    "# vamos a mostrar las primeras filas\n",
    "dataset.head(10)\n"
   ]
  },
  {
   "cell_type": "markdown",
   "metadata": {},
   "source": [
    "En la tabla mostrada, se aprecian valores negativos en la columna 'days_employed', valores repetidos con diferencias ortográficas en la columna 'education' y valores que se pueden categorizar en las columnas 'dob_years' y 'purpose'. Es necesario revisar si hay valores ausentes y correlación entre valores ausentes de distintas columnas."
   ]
  },
  {
   "cell_type": "code",
   "execution_count": 5,
   "metadata": {
    "scrolled": false
   },
   "outputs": [
    {
     "name": "stdout",
     "output_type": "stream",
     "text": [
      "<class 'pandas.core.frame.DataFrame'>\n",
      "RangeIndex: 21525 entries, 0 to 21524\n",
      "Data columns (total 12 columns):\n",
      " #   Column            Non-Null Count  Dtype  \n",
      "---  ------            --------------  -----  \n",
      " 0   children          21525 non-null  int64  \n",
      " 1   days_employed     19351 non-null  float64\n",
      " 2   dob_years         21525 non-null  int64  \n",
      " 3   education         21525 non-null  object \n",
      " 4   education_id      21525 non-null  int64  \n",
      " 5   family_status     21525 non-null  object \n",
      " 6   family_status_id  21525 non-null  int64  \n",
      " 7   gender            21525 non-null  object \n",
      " 8   income_type       21525 non-null  object \n",
      " 9   debt              21525 non-null  int64  \n",
      " 10  total_income      19351 non-null  float64\n",
      " 11  purpose           21525 non-null  object \n",
      "dtypes: float64(2), int64(5), object(5)\n",
      "memory usage: 2.0+ MB\n"
     ]
    }
   ],
   "source": [
    "# Obtenemos información sobre los datos\n",
    "dataset.info()"
   ]
  },
  {
   "cell_type": "markdown",
   "metadata": {},
   "source": [
    "Hay valores ausentes en las columnas de days_employed y de total_income, posiblemente en las mismas filas."
   ]
  },
  {
   "cell_type": "code",
   "execution_count": 6,
   "metadata": {
    "scrolled": true
   },
   "outputs": [
    {
     "data": {
      "text/html": [
       "<div>\n",
       "<style scoped>\n",
       "    .dataframe tbody tr th:only-of-type {\n",
       "        vertical-align: middle;\n",
       "    }\n",
       "\n",
       "    .dataframe tbody tr th {\n",
       "        vertical-align: top;\n",
       "    }\n",
       "\n",
       "    .dataframe thead th {\n",
       "        text-align: right;\n",
       "    }\n",
       "</style>\n",
       "<table border=\"1\" class=\"dataframe\">\n",
       "  <thead>\n",
       "    <tr style=\"text-align: right;\">\n",
       "      <th></th>\n",
       "      <th>children</th>\n",
       "      <th>days_employed</th>\n",
       "      <th>dob_years</th>\n",
       "      <th>education</th>\n",
       "      <th>education_id</th>\n",
       "      <th>family_status</th>\n",
       "      <th>family_status_id</th>\n",
       "      <th>gender</th>\n",
       "      <th>income_type</th>\n",
       "      <th>debt</th>\n",
       "      <th>total_income</th>\n",
       "      <th>purpose</th>\n",
       "    </tr>\n",
       "  </thead>\n",
       "  <tbody>\n",
       "    <tr>\n",
       "      <th>12</th>\n",
       "      <td>0</td>\n",
       "      <td>NaN</td>\n",
       "      <td>65</td>\n",
       "      <td>secondary education</td>\n",
       "      <td>1</td>\n",
       "      <td>civil partnership</td>\n",
       "      <td>1</td>\n",
       "      <td>M</td>\n",
       "      <td>retiree</td>\n",
       "      <td>0</td>\n",
       "      <td>NaN</td>\n",
       "      <td>to have a wedding</td>\n",
       "    </tr>\n",
       "    <tr>\n",
       "      <th>26</th>\n",
       "      <td>0</td>\n",
       "      <td>NaN</td>\n",
       "      <td>41</td>\n",
       "      <td>secondary education</td>\n",
       "      <td>1</td>\n",
       "      <td>married</td>\n",
       "      <td>0</td>\n",
       "      <td>M</td>\n",
       "      <td>civil servant</td>\n",
       "      <td>0</td>\n",
       "      <td>NaN</td>\n",
       "      <td>education</td>\n",
       "    </tr>\n",
       "    <tr>\n",
       "      <th>29</th>\n",
       "      <td>0</td>\n",
       "      <td>NaN</td>\n",
       "      <td>63</td>\n",
       "      <td>secondary education</td>\n",
       "      <td>1</td>\n",
       "      <td>unmarried</td>\n",
       "      <td>4</td>\n",
       "      <td>F</td>\n",
       "      <td>retiree</td>\n",
       "      <td>0</td>\n",
       "      <td>NaN</td>\n",
       "      <td>building a real estate</td>\n",
       "    </tr>\n",
       "    <tr>\n",
       "      <th>41</th>\n",
       "      <td>0</td>\n",
       "      <td>NaN</td>\n",
       "      <td>50</td>\n",
       "      <td>secondary education</td>\n",
       "      <td>1</td>\n",
       "      <td>married</td>\n",
       "      <td>0</td>\n",
       "      <td>F</td>\n",
       "      <td>civil servant</td>\n",
       "      <td>0</td>\n",
       "      <td>NaN</td>\n",
       "      <td>second-hand car purchase</td>\n",
       "    </tr>\n",
       "    <tr>\n",
       "      <th>55</th>\n",
       "      <td>0</td>\n",
       "      <td>NaN</td>\n",
       "      <td>54</td>\n",
       "      <td>secondary education</td>\n",
       "      <td>1</td>\n",
       "      <td>civil partnership</td>\n",
       "      <td>1</td>\n",
       "      <td>F</td>\n",
       "      <td>retiree</td>\n",
       "      <td>1</td>\n",
       "      <td>NaN</td>\n",
       "      <td>to have a wedding</td>\n",
       "    </tr>\n",
       "    <tr>\n",
       "      <th>...</th>\n",
       "      <td>...</td>\n",
       "      <td>...</td>\n",
       "      <td>...</td>\n",
       "      <td>...</td>\n",
       "      <td>...</td>\n",
       "      <td>...</td>\n",
       "      <td>...</td>\n",
       "      <td>...</td>\n",
       "      <td>...</td>\n",
       "      <td>...</td>\n",
       "      <td>...</td>\n",
       "      <td>...</td>\n",
       "    </tr>\n",
       "    <tr>\n",
       "      <th>21489</th>\n",
       "      <td>2</td>\n",
       "      <td>NaN</td>\n",
       "      <td>47</td>\n",
       "      <td>Secondary Education</td>\n",
       "      <td>1</td>\n",
       "      <td>married</td>\n",
       "      <td>0</td>\n",
       "      <td>M</td>\n",
       "      <td>business</td>\n",
       "      <td>0</td>\n",
       "      <td>NaN</td>\n",
       "      <td>purchase of a car</td>\n",
       "    </tr>\n",
       "    <tr>\n",
       "      <th>21495</th>\n",
       "      <td>1</td>\n",
       "      <td>NaN</td>\n",
       "      <td>50</td>\n",
       "      <td>secondary education</td>\n",
       "      <td>1</td>\n",
       "      <td>civil partnership</td>\n",
       "      <td>1</td>\n",
       "      <td>F</td>\n",
       "      <td>employee</td>\n",
       "      <td>0</td>\n",
       "      <td>NaN</td>\n",
       "      <td>wedding ceremony</td>\n",
       "    </tr>\n",
       "    <tr>\n",
       "      <th>21497</th>\n",
       "      <td>0</td>\n",
       "      <td>NaN</td>\n",
       "      <td>48</td>\n",
       "      <td>BACHELOR'S DEGREE</td>\n",
       "      <td>0</td>\n",
       "      <td>married</td>\n",
       "      <td>0</td>\n",
       "      <td>F</td>\n",
       "      <td>business</td>\n",
       "      <td>0</td>\n",
       "      <td>NaN</td>\n",
       "      <td>building a property</td>\n",
       "    </tr>\n",
       "    <tr>\n",
       "      <th>21502</th>\n",
       "      <td>1</td>\n",
       "      <td>NaN</td>\n",
       "      <td>42</td>\n",
       "      <td>secondary education</td>\n",
       "      <td>1</td>\n",
       "      <td>married</td>\n",
       "      <td>0</td>\n",
       "      <td>F</td>\n",
       "      <td>employee</td>\n",
       "      <td>0</td>\n",
       "      <td>NaN</td>\n",
       "      <td>building a real estate</td>\n",
       "    </tr>\n",
       "    <tr>\n",
       "      <th>21510</th>\n",
       "      <td>2</td>\n",
       "      <td>NaN</td>\n",
       "      <td>28</td>\n",
       "      <td>secondary education</td>\n",
       "      <td>1</td>\n",
       "      <td>married</td>\n",
       "      <td>0</td>\n",
       "      <td>F</td>\n",
       "      <td>employee</td>\n",
       "      <td>0</td>\n",
       "      <td>NaN</td>\n",
       "      <td>car purchase</td>\n",
       "    </tr>\n",
       "  </tbody>\n",
       "</table>\n",
       "<p>2174 rows × 12 columns</p>\n",
       "</div>"
      ],
      "text/plain": [
       "       children  days_employed  dob_years            education  education_id  \\\n",
       "12            0            NaN         65  secondary education             1   \n",
       "26            0            NaN         41  secondary education             1   \n",
       "29            0            NaN         63  secondary education             1   \n",
       "41            0            NaN         50  secondary education             1   \n",
       "55            0            NaN         54  secondary education             1   \n",
       "...         ...            ...        ...                  ...           ...   \n",
       "21489         2            NaN         47  Secondary Education             1   \n",
       "21495         1            NaN         50  secondary education             1   \n",
       "21497         0            NaN         48    BACHELOR'S DEGREE             0   \n",
       "21502         1            NaN         42  secondary education             1   \n",
       "21510         2            NaN         28  secondary education             1   \n",
       "\n",
       "           family_status  family_status_id gender    income_type  debt  \\\n",
       "12     civil partnership                 1      M        retiree     0   \n",
       "26               married                 0      M  civil servant     0   \n",
       "29             unmarried                 4      F        retiree     0   \n",
       "41               married                 0      F  civil servant     0   \n",
       "55     civil partnership                 1      F        retiree     1   \n",
       "...                  ...               ...    ...            ...   ...   \n",
       "21489            married                 0      M       business     0   \n",
       "21495  civil partnership                 1      F       employee     0   \n",
       "21497            married                 0      F       business     0   \n",
       "21502            married                 0      F       employee     0   \n",
       "21510            married                 0      F       employee     0   \n",
       "\n",
       "       total_income                   purpose  \n",
       "12              NaN         to have a wedding  \n",
       "26              NaN                 education  \n",
       "29              NaN    building a real estate  \n",
       "41              NaN  second-hand car purchase  \n",
       "55              NaN         to have a wedding  \n",
       "...             ...                       ...  \n",
       "21489           NaN         purchase of a car  \n",
       "21495           NaN          wedding ceremony  \n",
       "21497           NaN       building a property  \n",
       "21502           NaN    building a real estate  \n",
       "21510           NaN              car purchase  \n",
       "\n",
       "[2174 rows x 12 columns]"
      ]
     },
     "execution_count": 6,
     "metadata": {},
     "output_type": "execute_result"
    }
   ],
   "source": [
    "# Veamos la tabla filtrada con valores ausentes de la primera columna donde faltan datos\n",
    "dataset[dataset['days_employed'].isna()]\n"
   ]
  },
  {
   "cell_type": "markdown",
   "metadata": {},
   "source": [
    "Los valores ausentes en las columnas 'days_employed' y 'total_income' parecen simétricos. Esto podría deberse a que el cálculo para el ingreso total depende de la variables de 'days_employed'. "
   ]
  },
  {
   "cell_type": "code",
   "execution_count": 7,
   "metadata": {},
   "outputs": [
    {
     "data": {
      "text/html": [
       "<div>\n",
       "<style scoped>\n",
       "    .dataframe tbody tr th:only-of-type {\n",
       "        vertical-align: middle;\n",
       "    }\n",
       "\n",
       "    .dataframe tbody tr th {\n",
       "        vertical-align: top;\n",
       "    }\n",
       "\n",
       "    .dataframe thead th {\n",
       "        text-align: right;\n",
       "    }\n",
       "</style>\n",
       "<table border=\"1\" class=\"dataframe\">\n",
       "  <thead>\n",
       "    <tr style=\"text-align: right;\">\n",
       "      <th></th>\n",
       "      <th>children</th>\n",
       "      <th>days_employed</th>\n",
       "      <th>dob_years</th>\n",
       "      <th>education</th>\n",
       "      <th>education_id</th>\n",
       "      <th>family_status</th>\n",
       "      <th>family_status_id</th>\n",
       "      <th>gender</th>\n",
       "      <th>income_type</th>\n",
       "      <th>debt</th>\n",
       "      <th>total_income</th>\n",
       "      <th>purpose</th>\n",
       "    </tr>\n",
       "  </thead>\n",
       "  <tbody>\n",
       "    <tr>\n",
       "      <th>12</th>\n",
       "      <td>0</td>\n",
       "      <td>NaN</td>\n",
       "      <td>65</td>\n",
       "      <td>secondary education</td>\n",
       "      <td>1</td>\n",
       "      <td>civil partnership</td>\n",
       "      <td>1</td>\n",
       "      <td>M</td>\n",
       "      <td>retiree</td>\n",
       "      <td>0</td>\n",
       "      <td>NaN</td>\n",
       "      <td>to have a wedding</td>\n",
       "    </tr>\n",
       "    <tr>\n",
       "      <th>26</th>\n",
       "      <td>0</td>\n",
       "      <td>NaN</td>\n",
       "      <td>41</td>\n",
       "      <td>secondary education</td>\n",
       "      <td>1</td>\n",
       "      <td>married</td>\n",
       "      <td>0</td>\n",
       "      <td>M</td>\n",
       "      <td>civil servant</td>\n",
       "      <td>0</td>\n",
       "      <td>NaN</td>\n",
       "      <td>education</td>\n",
       "    </tr>\n",
       "    <tr>\n",
       "      <th>29</th>\n",
       "      <td>0</td>\n",
       "      <td>NaN</td>\n",
       "      <td>63</td>\n",
       "      <td>secondary education</td>\n",
       "      <td>1</td>\n",
       "      <td>unmarried</td>\n",
       "      <td>4</td>\n",
       "      <td>F</td>\n",
       "      <td>retiree</td>\n",
       "      <td>0</td>\n",
       "      <td>NaN</td>\n",
       "      <td>building a real estate</td>\n",
       "    </tr>\n",
       "    <tr>\n",
       "      <th>41</th>\n",
       "      <td>0</td>\n",
       "      <td>NaN</td>\n",
       "      <td>50</td>\n",
       "      <td>secondary education</td>\n",
       "      <td>1</td>\n",
       "      <td>married</td>\n",
       "      <td>0</td>\n",
       "      <td>F</td>\n",
       "      <td>civil servant</td>\n",
       "      <td>0</td>\n",
       "      <td>NaN</td>\n",
       "      <td>second-hand car purchase</td>\n",
       "    </tr>\n",
       "    <tr>\n",
       "      <th>55</th>\n",
       "      <td>0</td>\n",
       "      <td>NaN</td>\n",
       "      <td>54</td>\n",
       "      <td>secondary education</td>\n",
       "      <td>1</td>\n",
       "      <td>civil partnership</td>\n",
       "      <td>1</td>\n",
       "      <td>F</td>\n",
       "      <td>retiree</td>\n",
       "      <td>1</td>\n",
       "      <td>NaN</td>\n",
       "      <td>to have a wedding</td>\n",
       "    </tr>\n",
       "    <tr>\n",
       "      <th>...</th>\n",
       "      <td>...</td>\n",
       "      <td>...</td>\n",
       "      <td>...</td>\n",
       "      <td>...</td>\n",
       "      <td>...</td>\n",
       "      <td>...</td>\n",
       "      <td>...</td>\n",
       "      <td>...</td>\n",
       "      <td>...</td>\n",
       "      <td>...</td>\n",
       "      <td>...</td>\n",
       "      <td>...</td>\n",
       "    </tr>\n",
       "    <tr>\n",
       "      <th>21489</th>\n",
       "      <td>2</td>\n",
       "      <td>NaN</td>\n",
       "      <td>47</td>\n",
       "      <td>Secondary Education</td>\n",
       "      <td>1</td>\n",
       "      <td>married</td>\n",
       "      <td>0</td>\n",
       "      <td>M</td>\n",
       "      <td>business</td>\n",
       "      <td>0</td>\n",
       "      <td>NaN</td>\n",
       "      <td>purchase of a car</td>\n",
       "    </tr>\n",
       "    <tr>\n",
       "      <th>21495</th>\n",
       "      <td>1</td>\n",
       "      <td>NaN</td>\n",
       "      <td>50</td>\n",
       "      <td>secondary education</td>\n",
       "      <td>1</td>\n",
       "      <td>civil partnership</td>\n",
       "      <td>1</td>\n",
       "      <td>F</td>\n",
       "      <td>employee</td>\n",
       "      <td>0</td>\n",
       "      <td>NaN</td>\n",
       "      <td>wedding ceremony</td>\n",
       "    </tr>\n",
       "    <tr>\n",
       "      <th>21497</th>\n",
       "      <td>0</td>\n",
       "      <td>NaN</td>\n",
       "      <td>48</td>\n",
       "      <td>BACHELOR'S DEGREE</td>\n",
       "      <td>0</td>\n",
       "      <td>married</td>\n",
       "      <td>0</td>\n",
       "      <td>F</td>\n",
       "      <td>business</td>\n",
       "      <td>0</td>\n",
       "      <td>NaN</td>\n",
       "      <td>building a property</td>\n",
       "    </tr>\n",
       "    <tr>\n",
       "      <th>21502</th>\n",
       "      <td>1</td>\n",
       "      <td>NaN</td>\n",
       "      <td>42</td>\n",
       "      <td>secondary education</td>\n",
       "      <td>1</td>\n",
       "      <td>married</td>\n",
       "      <td>0</td>\n",
       "      <td>F</td>\n",
       "      <td>employee</td>\n",
       "      <td>0</td>\n",
       "      <td>NaN</td>\n",
       "      <td>building a real estate</td>\n",
       "    </tr>\n",
       "    <tr>\n",
       "      <th>21510</th>\n",
       "      <td>2</td>\n",
       "      <td>NaN</td>\n",
       "      <td>28</td>\n",
       "      <td>secondary education</td>\n",
       "      <td>1</td>\n",
       "      <td>married</td>\n",
       "      <td>0</td>\n",
       "      <td>F</td>\n",
       "      <td>employee</td>\n",
       "      <td>0</td>\n",
       "      <td>NaN</td>\n",
       "      <td>car purchase</td>\n",
       "    </tr>\n",
       "  </tbody>\n",
       "</table>\n",
       "<p>2174 rows × 12 columns</p>\n",
       "</div>"
      ],
      "text/plain": [
       "       children  days_employed  dob_years            education  education_id  \\\n",
       "12            0            NaN         65  secondary education             1   \n",
       "26            0            NaN         41  secondary education             1   \n",
       "29            0            NaN         63  secondary education             1   \n",
       "41            0            NaN         50  secondary education             1   \n",
       "55            0            NaN         54  secondary education             1   \n",
       "...         ...            ...        ...                  ...           ...   \n",
       "21489         2            NaN         47  Secondary Education             1   \n",
       "21495         1            NaN         50  secondary education             1   \n",
       "21497         0            NaN         48    BACHELOR'S DEGREE             0   \n",
       "21502         1            NaN         42  secondary education             1   \n",
       "21510         2            NaN         28  secondary education             1   \n",
       "\n",
       "           family_status  family_status_id gender    income_type  debt  \\\n",
       "12     civil partnership                 1      M        retiree     0   \n",
       "26               married                 0      M  civil servant     0   \n",
       "29             unmarried                 4      F        retiree     0   \n",
       "41               married                 0      F  civil servant     0   \n",
       "55     civil partnership                 1      F        retiree     1   \n",
       "...                  ...               ...    ...            ...   ...   \n",
       "21489            married                 0      M       business     0   \n",
       "21495  civil partnership                 1      F       employee     0   \n",
       "21497            married                 0      F       business     0   \n",
       "21502            married                 0      F       employee     0   \n",
       "21510            married                 0      F       employee     0   \n",
       "\n",
       "       total_income                   purpose  \n",
       "12              NaN         to have a wedding  \n",
       "26              NaN                 education  \n",
       "29              NaN    building a real estate  \n",
       "41              NaN  second-hand car purchase  \n",
       "55              NaN         to have a wedding  \n",
       "...             ...                       ...  \n",
       "21489           NaN         purchase of a car  \n",
       "21495           NaN          wedding ceremony  \n",
       "21497           NaN       building a property  \n",
       "21502           NaN    building a real estate  \n",
       "21510           NaN              car purchase  \n",
       "\n",
       "[2174 rows x 12 columns]"
      ]
     },
     "execution_count": 7,
     "metadata": {},
     "output_type": "execute_result"
    }
   ],
   "source": [
    "# Apliquemos múltiples condiciones para filtrar datos y veamos el número de filas en la tabla filtrada.\n",
    "lista_nulos=dataset[dataset['days_employed'].isna()]\n",
    "lista_nulos"
   ]
  },
  {
   "cell_type": "markdown",
   "metadata": {},
   "source": [
    "**Conclusión intermedia**\n",
    "\n",
    "El número de filas en la tabla filtrada, que muestra las filas de valores ausentes en las columnas days_employed y total_income,coincide con el número de valores ausentes de la columna days_employed, por lo que se puede afirmar que hay una correlación entre ambas variables."
   ]
  },
  {
   "cell_type": "code",
   "execution_count": 8,
   "metadata": {},
   "outputs": [
    {
     "data": {
      "text/plain": [
       "10.099883855981417"
      ]
     },
     "execution_count": 8,
     "metadata": {},
     "output_type": "execute_result"
    }
   ],
   "source": [
    "#Porcentaje de valores ausentes\n",
    "dataset['days_employed'].isna().sum()*100/len(dataset['days_employed'])"
   ]
  },
  {
   "cell_type": "markdown",
   "metadata": {},
   "source": [
    "El porcentaje de los valores ausentes en comparación con el conjuto de datos completos es de 10.09 %, por lo que sería necesario completar tales valores. Corroboraremos si los valores ausentes están relacionados al tipo de educación y si dependen de otra variable del dataframe. \n",
    "\n",
    "[Explica tus próximos pasos y cómo se correlacionan con las conclusiones que has hecho hasta ahora.]"
   ]
  },
  {
   "cell_type": "code",
   "execution_count": 9,
   "metadata": {},
   "outputs": [
    {
     "data": {
      "text/plain": [
       "secondary education    1408\n",
       "bachelor's degree       496\n",
       "SECONDARY EDUCATION      67\n",
       "Secondary Education      65\n",
       "some college             55\n",
       "Bachelor's Degree        25\n",
       "BACHELOR'S DEGREE        23\n",
       "primary education        19\n",
       "SOME COLLEGE              7\n",
       "Some College              7\n",
       "PRIMARY EDUCATION         1\n",
       "Primary Education         1\n",
       "Name: education, dtype: int64"
      ]
     },
     "execution_count": 9,
     "metadata": {},
     "output_type": "execute_result"
    }
   ],
   "source": [
    "# Vamos a investigar a los clientes que no tienen datos sobre la característica identificada y la columna con los valores ausentes\n",
    "lista_nulos[['days_employed','education']]['education'].value_counts()"
   ]
  },
  {
   "cell_type": "code",
   "execution_count": 10,
   "metadata": {},
   "outputs": [
    {
     "data": {
      "text/html": [
       "<div>\n",
       "<style scoped>\n",
       "    .dataframe tbody tr th:only-of-type {\n",
       "        vertical-align: middle;\n",
       "    }\n",
       "\n",
       "    .dataframe tbody tr th {\n",
       "        vertical-align: top;\n",
       "    }\n",
       "\n",
       "    .dataframe thead th {\n",
       "        text-align: right;\n",
       "    }\n",
       "</style>\n",
       "<table border=\"1\" class=\"dataframe\">\n",
       "  <thead>\n",
       "    <tr style=\"text-align: right;\">\n",
       "      <th></th>\n",
       "      <th>children</th>\n",
       "      <th>days_employed</th>\n",
       "      <th>dob_years</th>\n",
       "      <th>education_id</th>\n",
       "      <th>family_status_id</th>\n",
       "      <th>debt</th>\n",
       "      <th>total_income</th>\n",
       "    </tr>\n",
       "  </thead>\n",
       "  <tbody>\n",
       "    <tr>\n",
       "      <th>count</th>\n",
       "      <td>2174.000000</td>\n",
       "      <td>0.0</td>\n",
       "      <td>2174.000000</td>\n",
       "      <td>2174.000000</td>\n",
       "      <td>2174.000000</td>\n",
       "      <td>2174.000000</td>\n",
       "      <td>0.0</td>\n",
       "    </tr>\n",
       "    <tr>\n",
       "      <th>mean</th>\n",
       "      <td>0.552438</td>\n",
       "      <td>NaN</td>\n",
       "      <td>43.632015</td>\n",
       "      <td>0.800828</td>\n",
       "      <td>0.975161</td>\n",
       "      <td>0.078197</td>\n",
       "      <td>NaN</td>\n",
       "    </tr>\n",
       "    <tr>\n",
       "      <th>std</th>\n",
       "      <td>1.469356</td>\n",
       "      <td>NaN</td>\n",
       "      <td>12.531481</td>\n",
       "      <td>0.530157</td>\n",
       "      <td>1.418220</td>\n",
       "      <td>0.268543</td>\n",
       "      <td>NaN</td>\n",
       "    </tr>\n",
       "    <tr>\n",
       "      <th>min</th>\n",
       "      <td>-1.000000</td>\n",
       "      <td>NaN</td>\n",
       "      <td>0.000000</td>\n",
       "      <td>0.000000</td>\n",
       "      <td>0.000000</td>\n",
       "      <td>0.000000</td>\n",
       "      <td>NaN</td>\n",
       "    </tr>\n",
       "    <tr>\n",
       "      <th>25%</th>\n",
       "      <td>0.000000</td>\n",
       "      <td>NaN</td>\n",
       "      <td>34.000000</td>\n",
       "      <td>0.250000</td>\n",
       "      <td>0.000000</td>\n",
       "      <td>0.000000</td>\n",
       "      <td>NaN</td>\n",
       "    </tr>\n",
       "    <tr>\n",
       "      <th>50%</th>\n",
       "      <td>0.000000</td>\n",
       "      <td>NaN</td>\n",
       "      <td>43.000000</td>\n",
       "      <td>1.000000</td>\n",
       "      <td>0.000000</td>\n",
       "      <td>0.000000</td>\n",
       "      <td>NaN</td>\n",
       "    </tr>\n",
       "    <tr>\n",
       "      <th>75%</th>\n",
       "      <td>1.000000</td>\n",
       "      <td>NaN</td>\n",
       "      <td>54.000000</td>\n",
       "      <td>1.000000</td>\n",
       "      <td>1.000000</td>\n",
       "      <td>0.000000</td>\n",
       "      <td>NaN</td>\n",
       "    </tr>\n",
       "    <tr>\n",
       "      <th>max</th>\n",
       "      <td>20.000000</td>\n",
       "      <td>NaN</td>\n",
       "      <td>73.000000</td>\n",
       "      <td>3.000000</td>\n",
       "      <td>4.000000</td>\n",
       "      <td>1.000000</td>\n",
       "      <td>NaN</td>\n",
       "    </tr>\n",
       "  </tbody>\n",
       "</table>\n",
       "</div>"
      ],
      "text/plain": [
       "          children  days_employed    dob_years  education_id  \\\n",
       "count  2174.000000            0.0  2174.000000   2174.000000   \n",
       "mean      0.552438            NaN    43.632015      0.800828   \n",
       "std       1.469356            NaN    12.531481      0.530157   \n",
       "min      -1.000000            NaN     0.000000      0.000000   \n",
       "25%       0.000000            NaN    34.000000      0.250000   \n",
       "50%       0.000000            NaN    43.000000      1.000000   \n",
       "75%       1.000000            NaN    54.000000      1.000000   \n",
       "max      20.000000            NaN    73.000000      3.000000   \n",
       "\n",
       "       family_status_id         debt  total_income  \n",
       "count       2174.000000  2174.000000           0.0  \n",
       "mean           0.975161     0.078197           NaN  \n",
       "std            1.418220     0.268543           NaN  \n",
       "min            0.000000     0.000000           NaN  \n",
       "25%            0.000000     0.000000           NaN  \n",
       "50%            0.000000     0.000000           NaN  \n",
       "75%            1.000000     0.000000           NaN  \n",
       "max            4.000000     1.000000           NaN  "
      ]
     },
     "execution_count": 10,
     "metadata": {},
     "output_type": "execute_result"
    }
   ],
   "source": [
    "# Comprobación de la distribución\n",
    "lista_nulos.describe()\n"
   ]
  },
  {
   "cell_type": "markdown",
   "metadata": {},
   "source": [
    "No existe una relación entre las columnas 'days_employed' y 'total_income' con otras variables; sin embargo, sí existe una correlación entre estas dos.\n",
    "\n",
    "**Posibles razones por las que hay valores ausentes en los datos**\n",
    "\n",
    "Es posible que los valores ausentes de 'total_income' puedan deberse a que el cálculo de dicha variable dependa de la cantidad de días empleados."
   ]
  },
  {
   "cell_type": "code",
   "execution_count": 11,
   "metadata": {},
   "outputs": [
    {
     "data": {
      "text/html": [
       "<div>\n",
       "<style scoped>\n",
       "    .dataframe tbody tr th:only-of-type {\n",
       "        vertical-align: middle;\n",
       "    }\n",
       "\n",
       "    .dataframe tbody tr th {\n",
       "        vertical-align: top;\n",
       "    }\n",
       "\n",
       "    .dataframe thead th {\n",
       "        text-align: right;\n",
       "    }\n",
       "</style>\n",
       "<table border=\"1\" class=\"dataframe\">\n",
       "  <thead>\n",
       "    <tr style=\"text-align: right;\">\n",
       "      <th></th>\n",
       "      <th>children</th>\n",
       "      <th>days_employed</th>\n",
       "      <th>dob_years</th>\n",
       "      <th>education_id</th>\n",
       "      <th>family_status_id</th>\n",
       "      <th>debt</th>\n",
       "      <th>total_income</th>\n",
       "    </tr>\n",
       "  </thead>\n",
       "  <tbody>\n",
       "    <tr>\n",
       "      <th>count</th>\n",
       "      <td>21525.000000</td>\n",
       "      <td>19351.000000</td>\n",
       "      <td>21525.000000</td>\n",
       "      <td>21525.000000</td>\n",
       "      <td>21525.000000</td>\n",
       "      <td>21525.000000</td>\n",
       "      <td>19351.000000</td>\n",
       "    </tr>\n",
       "    <tr>\n",
       "      <th>mean</th>\n",
       "      <td>0.538908</td>\n",
       "      <td>63046.497661</td>\n",
       "      <td>43.293380</td>\n",
       "      <td>0.817236</td>\n",
       "      <td>0.972544</td>\n",
       "      <td>0.080883</td>\n",
       "      <td>26787.568355</td>\n",
       "    </tr>\n",
       "    <tr>\n",
       "      <th>std</th>\n",
       "      <td>1.381587</td>\n",
       "      <td>140827.311974</td>\n",
       "      <td>12.574584</td>\n",
       "      <td>0.548138</td>\n",
       "      <td>1.420324</td>\n",
       "      <td>0.272661</td>\n",
       "      <td>16475.450632</td>\n",
       "    </tr>\n",
       "    <tr>\n",
       "      <th>min</th>\n",
       "      <td>-1.000000</td>\n",
       "      <td>-18388.949901</td>\n",
       "      <td>0.000000</td>\n",
       "      <td>0.000000</td>\n",
       "      <td>0.000000</td>\n",
       "      <td>0.000000</td>\n",
       "      <td>3306.762000</td>\n",
       "    </tr>\n",
       "    <tr>\n",
       "      <th>25%</th>\n",
       "      <td>0.000000</td>\n",
       "      <td>-2747.423625</td>\n",
       "      <td>33.000000</td>\n",
       "      <td>1.000000</td>\n",
       "      <td>0.000000</td>\n",
       "      <td>0.000000</td>\n",
       "      <td>16488.504500</td>\n",
       "    </tr>\n",
       "    <tr>\n",
       "      <th>50%</th>\n",
       "      <td>0.000000</td>\n",
       "      <td>-1203.369529</td>\n",
       "      <td>42.000000</td>\n",
       "      <td>1.000000</td>\n",
       "      <td>0.000000</td>\n",
       "      <td>0.000000</td>\n",
       "      <td>23202.870000</td>\n",
       "    </tr>\n",
       "    <tr>\n",
       "      <th>75%</th>\n",
       "      <td>1.000000</td>\n",
       "      <td>-291.095954</td>\n",
       "      <td>53.000000</td>\n",
       "      <td>1.000000</td>\n",
       "      <td>1.000000</td>\n",
       "      <td>0.000000</td>\n",
       "      <td>32549.611000</td>\n",
       "    </tr>\n",
       "    <tr>\n",
       "      <th>max</th>\n",
       "      <td>20.000000</td>\n",
       "      <td>401755.400475</td>\n",
       "      <td>75.000000</td>\n",
       "      <td>4.000000</td>\n",
       "      <td>4.000000</td>\n",
       "      <td>1.000000</td>\n",
       "      <td>362496.645000</td>\n",
       "    </tr>\n",
       "  </tbody>\n",
       "</table>\n",
       "</div>"
      ],
      "text/plain": [
       "           children  days_employed     dob_years  education_id  \\\n",
       "count  21525.000000   19351.000000  21525.000000  21525.000000   \n",
       "mean       0.538908   63046.497661     43.293380      0.817236   \n",
       "std        1.381587  140827.311974     12.574584      0.548138   \n",
       "min       -1.000000  -18388.949901      0.000000      0.000000   \n",
       "25%        0.000000   -2747.423625     33.000000      1.000000   \n",
       "50%        0.000000   -1203.369529     42.000000      1.000000   \n",
       "75%        1.000000    -291.095954     53.000000      1.000000   \n",
       "max       20.000000  401755.400475     75.000000      4.000000   \n",
       "\n",
       "       family_status_id          debt   total_income  \n",
       "count      21525.000000  21525.000000   19351.000000  \n",
       "mean           0.972544      0.080883   26787.568355  \n",
       "std            1.420324      0.272661   16475.450632  \n",
       "min            0.000000      0.000000    3306.762000  \n",
       "25%            0.000000      0.000000   16488.504500  \n",
       "50%            0.000000      0.000000   23202.870000  \n",
       "75%            1.000000      0.000000   32549.611000  \n",
       "max            4.000000      1.000000  362496.645000  "
      ]
     },
     "execution_count": 11,
     "metadata": {},
     "output_type": "execute_result"
    }
   ],
   "source": [
    "# Comprobando la distribución en el conjunto de datos entero\n",
    "dataset.describe()\n"
   ]
  },
  {
   "cell_type": "markdown",
   "metadata": {},
   "source": [
    "**Conclusión intermedia**\n",
    "\n",
    "La distribución en el conjunto de datos origial es similar a la tabla filtrada, por lo que se podría usar para rellenar los valores ausentes."
   ]
  },
  {
   "cell_type": "code",
   "execution_count": 12,
   "metadata": {},
   "outputs": [
    {
     "data": {
      "text/plain": [
       "gender  education          \n",
       "F       secondary education    962\n",
       "        bachelor's degree      338\n",
       "        SECONDARY EDUCATION     46\n",
       "        Secondary Education     45\n",
       "        some college            34\n",
       "        Bachelor's Degree       20\n",
       "        BACHELOR'S DEGREE       15\n",
       "        primary education       13\n",
       "        Some College             5\n",
       "        SOME COLLEGE             4\n",
       "        PRIMARY EDUCATION        1\n",
       "        Primary Education        1\n",
       "M       secondary education    446\n",
       "        bachelor's degree      158\n",
       "        SECONDARY EDUCATION     21\n",
       "        some college            21\n",
       "        Secondary Education     20\n",
       "        BACHELOR'S DEGREE        8\n",
       "        primary education        6\n",
       "        Bachelor's Degree        5\n",
       "        SOME COLLEGE             3\n",
       "        Some College             2\n",
       "Name: education, dtype: int64"
      ]
     },
     "execution_count": 12,
     "metadata": {},
     "output_type": "execute_result"
    }
   ],
   "source": [
    "# Comprueba otras razones y patrones que podrían llevar a valores ausentes\n",
    "lista_nulos.groupby('gender')['education'].value_counts()\n"
   ]
  },
  {
   "cell_type": "markdown",
   "metadata": {},
   "source": [
    "**Conclusión intermedia**\n",
    "\n",
    "No hay una correlación directa entre los valores ausentes y las variables de género ni el nivel de educación."
   ]
  },
  {
   "cell_type": "code",
   "execution_count": 13,
   "metadata": {
    "scrolled": true
   },
   "outputs": [
    {
     "data": {
      "text/plain": [
       "children  education          \n",
       "-1        secondary education      2\n",
       "          Secondary Education      1\n",
       " 0        secondary education    953\n",
       "          bachelor's degree      307\n",
       "          SECONDARY EDUCATION     50\n",
       "          Secondary Education     45\n",
       "          some college            33\n",
       "          primary education       14\n",
       "          BACHELOR'S DEGREE       13\n",
       "          Bachelor's Degree       12\n",
       "          Some College             6\n",
       "          SOME COLLEGE             5\n",
       "          Primary Education        1\n",
       " 1        secondary education    291\n",
       "          bachelor's degree      126\n",
       "          some college            14\n",
       "          Secondary Education     12\n",
       "          Bachelor's Degree        9\n",
       "          SECONDARY EDUCATION      9\n",
       "          BACHELOR'S DEGREE        7\n",
       "          primary education        4\n",
       "          SOME COLLEGE             2\n",
       "          Some College             1\n",
       " 2        secondary education    128\n",
       "          bachelor's degree       50\n",
       "          SECONDARY EDUCATION      8\n",
       "          some college             6\n",
       "          Secondary Education      5\n",
       "          Bachelor's Degree        4\n",
       "          BACHELOR'S DEGREE        2\n",
       "          PRIMARY EDUCATION        1\n",
       " 3        secondary education     22\n",
       "          bachelor's degree        9\n",
       "          Secondary Education      2\n",
       "          some college             2\n",
       "          primary education        1\n",
       " 4        secondary education      5\n",
       "          BACHELOR'S DEGREE        1\n",
       "          bachelor's degree        1\n",
       " 5        secondary education      1\n",
       " 20       secondary education      6\n",
       "          bachelor's degree        3\n",
       "Name: education, dtype: int64"
      ]
     },
     "execution_count": 13,
     "metadata": {},
     "output_type": "execute_result"
    }
   ],
   "source": [
    "# Comprobación de otros patrones: explica cuáles\n",
    "lista_nulos.groupby('children')['education'].value_counts()"
   ]
  },
  {
   "cell_type": "code",
   "execution_count": 14,
   "metadata": {},
   "outputs": [
    {
     "data": {
      "text/plain": [
       "children  education          \n",
       "-1        secondary education    31\n",
       "          bachelor's degree       8\n",
       "          SECONDARY EDUCATION     4\n",
       "          Secondary Education     2\n",
       "          BACHELOR'S DEGREE       1\n",
       "                                 ..\n",
       " 20       bachelor's degree      12\n",
       "          Secondary Education     6\n",
       "          BACHELOR'S DEGREE       2\n",
       "          SECONDARY EDUCATION     2\n",
       "          some college            2\n",
       "Name: education, Length: 68, dtype: int64"
      ]
     },
     "execution_count": 14,
     "metadata": {},
     "output_type": "execute_result"
    }
   ],
   "source": [
    "dataset.groupby('children')['education'].value_counts()"
   ]
  },
  {
   "cell_type": "markdown",
   "metadata": {},
   "source": [
    "**Conclusiones**\n",
    "\n",
    "No se encontraron patrones que relacionen los valores ausentes con alguna otra variable.\n",
    "\n",
    "Los valores ausentes serán reemplazados por la media o mediana de las variables más significativas encontradas. Se realizarán las correcciones ortográficas y eliminación de duplicados encontrados."
   ]
  },
  {
   "cell_type": "markdown",
   "metadata": {},
   "source": [
    "## Transformación de datos\n",
    "\n",
    "Realizaremos la eliminación de duplicados y correcciones ortográficas en la columna 'education', corrección de valores incongruentes en las columnas 'children' y 'days_employed'. "
   ]
  },
  {
   "cell_type": "code",
   "execution_count": 15,
   "metadata": {},
   "outputs": [
    {
     "data": {
      "text/plain": [
       "array([\"bachelor's degree\", 'secondary education', 'Secondary Education',\n",
       "       'SECONDARY EDUCATION', \"BACHELOR'S DEGREE\", 'some college',\n",
       "       'primary education', \"Bachelor's Degree\", 'SOME COLLEGE',\n",
       "       'Some College', 'PRIMARY EDUCATION', 'Primary Education',\n",
       "       'Graduate Degree', 'GRADUATE DEGREE', 'graduate degree'],\n",
       "      dtype=object)"
      ]
     },
     "execution_count": 15,
     "metadata": {},
     "output_type": "execute_result"
    }
   ],
   "source": [
    "# Veamos todos los valores en la columna de educación para verificar si será necesario corregir la ortografía y qué habrá que corregir exactamente\n",
    "dataset['education'].unique()"
   ]
  },
  {
   "cell_type": "code",
   "execution_count": 16,
   "metadata": {
    "scrolled": true
   },
   "outputs": [],
   "source": [
    "# Arreglamos los registros si es necesario\n",
    "dataset['education']=dataset['education'].str.lower()"
   ]
  },
  {
   "cell_type": "code",
   "execution_count": 17,
   "metadata": {},
   "outputs": [
    {
     "data": {
      "text/plain": [
       "array([\"bachelor's degree\", 'secondary education', 'some college',\n",
       "       'primary education', 'graduate degree'], dtype=object)"
      ]
     },
     "execution_count": 17,
     "metadata": {},
     "output_type": "execute_result"
    }
   ],
   "source": [
    "# Comprobamos todos los valores en la columna para asegurarnos de que los hayamos corregido\n",
    "dataset['education'].unique()\n"
   ]
  },
  {
   "cell_type": "markdown",
   "metadata": {},
   "source": [
    "### Restaurar valores erróneos en Children"
   ]
  },
  {
   "cell_type": "code",
   "execution_count": 18,
   "metadata": {},
   "outputs": [
    {
     "data": {
      "text/plain": [
       "array([ 1,  0,  3,  2, -1,  4, 20,  5])"
      ]
     },
     "execution_count": 18,
     "metadata": {},
     "output_type": "execute_result"
    }
   ],
   "source": [
    "# Veamos la distribución de los valores en la columna `children`\n",
    "dataset['children'].unique()"
   ]
  },
  {
   "cell_type": "code",
   "execution_count": 19,
   "metadata": {},
   "outputs": [
    {
     "data": {
      "text/plain": [
       "0.4367015098722416"
      ]
     },
     "execution_count": 19,
     "metadata": {},
     "output_type": "execute_result"
    }
   ],
   "source": [
    "#porcentaje de datos problemáticos\n",
    "(len(dataset[dataset['children']==-1]) + len(dataset[dataset['children']==-1]))*100/len(dataset['children'])"
   ]
  },
  {
   "cell_type": "markdown",
   "metadata": {},
   "source": [
    "Existen 94 datos problemáticos que representan el 0.43 % del total de los datos en la columna 'children', por lo que serán reemplazados."
   ]
  },
  {
   "cell_type": "code",
   "execution_count": 20,
   "metadata": {},
   "outputs": [],
   "source": [
    "# Eliminamos los datos con cantidad de hijos de negativos, en lugar de asumir errores.\n",
    "dataset['children']=dataset['children'].replace(-1,1)\n",
    "dataset['children']=dataset['children'].replace(20,2)"
   ]
  },
  {
   "cell_type": "code",
   "execution_count": 21,
   "metadata": {},
   "outputs": [
    {
     "data": {
      "text/plain": [
       "array([1, 0, 3, 2, 4, 5])"
      ]
     },
     "execution_count": 21,
     "metadata": {},
     "output_type": "execute_result"
    }
   ],
   "source": [
    "# Comprobamos la columna `children` de nuevo para asegurarnos de que todo está arreglado\n",
    "dataset['children'].unique()\n"
   ]
  },
  {
   "cell_type": "markdown",
   "metadata": {},
   "source": [
    "En la columna `days_employed` hay números negativos también; sin embargo, esto puede deberse a la forma en la que se obtuvo el registro de estos valores. De esta forma, los valores negativos serán convertidos a positivos si el porcentaje es muy alto."
   ]
  },
  {
   "cell_type": "code",
   "execution_count": 22,
   "metadata": {},
   "outputs": [
    {
     "data": {
      "text/plain": [
       "73.89547038327527"
      ]
     },
     "execution_count": 22,
     "metadata": {},
     "output_type": "execute_result"
    }
   ],
   "source": [
    "len(dataset[dataset['days_employed']<0])*100/len(dataset['days_employed'])"
   ]
  },
  {
   "cell_type": "markdown",
   "metadata": {},
   "source": [
    "Debido a que la cantidad de datos problemáticos es alta, esto podría deberse a problemas técnicos. Se aplicará el valor absoluto a dichos valores en lugar de ser eliminados."
   ]
  },
  {
   "cell_type": "code",
   "execution_count": 23,
   "metadata": {},
   "outputs": [],
   "source": [
    "# Abordamos los valores problemáticos, si existen.\n",
    "dataset['days_employed']=abs(dataset['days_employed'])"
   ]
  },
  {
   "cell_type": "code",
   "execution_count": 24,
   "metadata": {},
   "outputs": [
    {
     "data": {
      "text/plain": [
       "0          8437.673028\n",
       "1          4024.803754\n",
       "2          5623.422610\n",
       "3          4124.747207\n",
       "4        340266.072047\n",
       "             ...      \n",
       "21520      4529.316663\n",
       "21521    343937.404131\n",
       "21522      2113.346888\n",
       "21523      3112.481705\n",
       "21524      1984.507589\n",
       "Name: days_employed, Length: 21525, dtype: float64"
      ]
     },
     "execution_count": 24,
     "metadata": {},
     "output_type": "execute_result"
    }
   ],
   "source": [
    "dataset['days_employed']"
   ]
  },
  {
   "cell_type": "code",
   "execution_count": 25,
   "metadata": {
    "scrolled": true
   },
   "outputs": [
    {
     "data": {
      "text/plain": [
       "count    21525.000000\n",
       "mean        43.293380\n",
       "std         12.574584\n",
       "min          0.000000\n",
       "25%         33.000000\n",
       "50%         42.000000\n",
       "75%         53.000000\n",
       "max         75.000000\n",
       "Name: dob_years, dtype: float64"
      ]
     },
     "execution_count": 25,
     "metadata": {},
     "output_type": "execute_result"
    }
   ],
   "source": [
    "dataset['dob_years'].describe()"
   ]
  },
  {
   "cell_type": "markdown",
   "metadata": {},
   "source": [
    "Las filas en las que 'dob_years' sea igual a 0 fueron reemplazadas por el valor promedio de las edades."
   ]
  },
  {
   "cell_type": "code",
   "execution_count": 26,
   "metadata": {},
   "outputs": [],
   "source": [
    "dataset['dob_years']=dataset['dob_years'].replace(0,dataset['dob_years'].mean())"
   ]
  },
  {
   "cell_type": "code",
   "execution_count": 27,
   "metadata": {},
   "outputs": [
    {
     "data": {
      "text/plain": [
       "count    21525.000000\n",
       "mean        43.496522\n",
       "std         12.218174\n",
       "min         19.000000\n",
       "25%         34.000000\n",
       "50%         43.000000\n",
       "75%         53.000000\n",
       "max         75.000000\n",
       "Name: dob_years, dtype: float64"
      ]
     },
     "execution_count": 27,
     "metadata": {},
     "output_type": "execute_result"
    }
   ],
   "source": [
    "dataset['dob_years'].describe()"
   ]
  },
  {
   "cell_type": "code",
   "execution_count": 28,
   "metadata": {},
   "outputs": [
    {
     "data": {
      "text/plain": [
       "array(['married', 'civil partnership', 'widow / widower', 'divorced',\n",
       "       'unmarried'], dtype=object)"
      ]
     },
     "execution_count": 28,
     "metadata": {},
     "output_type": "execute_result"
    }
   ],
   "source": [
    "# Veamos los valores de la columna\n",
    "dataset['family_status'].unique()"
   ]
  },
  {
   "cell_type": "code",
   "execution_count": 29,
   "metadata": {},
   "outputs": [],
   "source": [
    "# Aborda los valores problemáticos en `family_status`, si existen\n",
    "dataset['family_status']=dataset['family_status'].replace('divorced','single')\n",
    "dataset['family_status']=dataset['family_status'].replace('unmarried','single')"
   ]
  },
  {
   "cell_type": "code",
   "execution_count": 30,
   "metadata": {},
   "outputs": [
    {
     "data": {
      "text/plain": [
       "array(['married', 'civil partnership', 'widow / widower', 'single'],\n",
       "      dtype=object)"
      ]
     },
     "execution_count": 30,
     "metadata": {},
     "output_type": "execute_result"
    }
   ],
   "source": [
    "# Comprobamos\n",
    "dataset['family_status'].unique()"
   ]
  },
  {
   "cell_type": "markdown",
   "metadata": {},
   "source": [
    "Revisamos la columna `gender`."
   ]
  },
  {
   "cell_type": "code",
   "execution_count": 31,
   "metadata": {},
   "outputs": [
    {
     "data": {
      "text/plain": [
       "F      14236\n",
       "M       7288\n",
       "XNA        1\n",
       "Name: gender, dtype: int64"
      ]
     },
     "execution_count": 31,
     "metadata": {},
     "output_type": "execute_result"
    }
   ],
   "source": [
    "dataset['gender'].value_counts()# Veamos los valores en la columna"
   ]
  },
  {
   "cell_type": "markdown",
   "metadata": {},
   "source": [
    "Revisamos la columna `income_type`."
   ]
  },
  {
   "cell_type": "code",
   "execution_count": 32,
   "metadata": {},
   "outputs": [
    {
     "data": {
      "text/plain": [
       "employee                       11119\n",
       "business                        5085\n",
       "retiree                         3856\n",
       "civil servant                   1459\n",
       "unemployed                         2\n",
       "entrepreneur                       2\n",
       "student                            1\n",
       "paternity / maternity leave        1\n",
       "Name: income_type, dtype: int64"
      ]
     },
     "execution_count": 32,
     "metadata": {},
     "output_type": "execute_result"
    }
   ],
   "source": [
    "# Veamos los valores en la columna\n",
    "dataset['income_type'].value_counts()"
   ]
  },
  {
   "cell_type": "code",
   "execution_count": 33,
   "metadata": {},
   "outputs": [],
   "source": [
    "# Aborda los valores problemáticos, si existen\n",
    "dataset['income_type']=dataset['income_type'].replace('entrepreneur','business')"
   ]
  },
  {
   "cell_type": "code",
   "execution_count": 34,
   "metadata": {},
   "outputs": [
    {
     "data": {
      "text/plain": [
       "employee                       11119\n",
       "business                        5087\n",
       "retiree                         3856\n",
       "civil servant                   1459\n",
       "unemployed                         2\n",
       "student                            1\n",
       "paternity / maternity leave        1\n",
       "Name: income_type, dtype: int64"
      ]
     },
     "execution_count": 34,
     "metadata": {},
     "output_type": "execute_result"
    }
   ],
   "source": [
    "# Comprobamos\n",
    "dataset['income_type'].value_counts()"
   ]
  },
  {
   "cell_type": "code",
   "execution_count": 35,
   "metadata": {},
   "outputs": [
    {
     "data": {
      "text/html": [
       "<div>\n",
       "<style scoped>\n",
       "    .dataframe tbody tr th:only-of-type {\n",
       "        vertical-align: middle;\n",
       "    }\n",
       "\n",
       "    .dataframe tbody tr th {\n",
       "        vertical-align: top;\n",
       "    }\n",
       "\n",
       "    .dataframe thead th {\n",
       "        text-align: right;\n",
       "    }\n",
       "</style>\n",
       "<table border=\"1\" class=\"dataframe\">\n",
       "  <thead>\n",
       "    <tr style=\"text-align: right;\">\n",
       "      <th></th>\n",
       "      <th>children</th>\n",
       "      <th>days_employed</th>\n",
       "      <th>dob_years</th>\n",
       "      <th>education</th>\n",
       "      <th>education_id</th>\n",
       "      <th>family_status</th>\n",
       "      <th>family_status_id</th>\n",
       "      <th>gender</th>\n",
       "      <th>income_type</th>\n",
       "      <th>debt</th>\n",
       "      <th>total_income</th>\n",
       "      <th>purpose</th>\n",
       "    </tr>\n",
       "  </thead>\n",
       "  <tbody>\n",
       "    <tr>\n",
       "      <th>2849</th>\n",
       "      <td>0</td>\n",
       "      <td>NaN</td>\n",
       "      <td>41.0</td>\n",
       "      <td>secondary education</td>\n",
       "      <td>1</td>\n",
       "      <td>married</td>\n",
       "      <td>0</td>\n",
       "      <td>F</td>\n",
       "      <td>employee</td>\n",
       "      <td>0</td>\n",
       "      <td>NaN</td>\n",
       "      <td>purchase of the house for my family</td>\n",
       "    </tr>\n",
       "    <tr>\n",
       "      <th>3290</th>\n",
       "      <td>0</td>\n",
       "      <td>NaN</td>\n",
       "      <td>58.0</td>\n",
       "      <td>secondary education</td>\n",
       "      <td>1</td>\n",
       "      <td>civil partnership</td>\n",
       "      <td>1</td>\n",
       "      <td>F</td>\n",
       "      <td>retiree</td>\n",
       "      <td>0</td>\n",
       "      <td>NaN</td>\n",
       "      <td>to have a wedding</td>\n",
       "    </tr>\n",
       "    <tr>\n",
       "      <th>4182</th>\n",
       "      <td>1</td>\n",
       "      <td>NaN</td>\n",
       "      <td>34.0</td>\n",
       "      <td>bachelor's degree</td>\n",
       "      <td>0</td>\n",
       "      <td>civil partnership</td>\n",
       "      <td>1</td>\n",
       "      <td>F</td>\n",
       "      <td>employee</td>\n",
       "      <td>0</td>\n",
       "      <td>NaN</td>\n",
       "      <td>wedding ceremony</td>\n",
       "    </tr>\n",
       "    <tr>\n",
       "      <th>4851</th>\n",
       "      <td>0</td>\n",
       "      <td>NaN</td>\n",
       "      <td>60.0</td>\n",
       "      <td>secondary education</td>\n",
       "      <td>1</td>\n",
       "      <td>civil partnership</td>\n",
       "      <td>1</td>\n",
       "      <td>F</td>\n",
       "      <td>retiree</td>\n",
       "      <td>0</td>\n",
       "      <td>NaN</td>\n",
       "      <td>wedding ceremony</td>\n",
       "    </tr>\n",
       "    <tr>\n",
       "      <th>5557</th>\n",
       "      <td>0</td>\n",
       "      <td>NaN</td>\n",
       "      <td>58.0</td>\n",
       "      <td>secondary education</td>\n",
       "      <td>1</td>\n",
       "      <td>civil partnership</td>\n",
       "      <td>1</td>\n",
       "      <td>F</td>\n",
       "      <td>retiree</td>\n",
       "      <td>0</td>\n",
       "      <td>NaN</td>\n",
       "      <td>to have a wedding</td>\n",
       "    </tr>\n",
       "    <tr>\n",
       "      <th>...</th>\n",
       "      <td>...</td>\n",
       "      <td>...</td>\n",
       "      <td>...</td>\n",
       "      <td>...</td>\n",
       "      <td>...</td>\n",
       "      <td>...</td>\n",
       "      <td>...</td>\n",
       "      <td>...</td>\n",
       "      <td>...</td>\n",
       "      <td>...</td>\n",
       "      <td>...</td>\n",
       "      <td>...</td>\n",
       "    </tr>\n",
       "    <tr>\n",
       "      <th>20702</th>\n",
       "      <td>0</td>\n",
       "      <td>NaN</td>\n",
       "      <td>64.0</td>\n",
       "      <td>secondary education</td>\n",
       "      <td>1</td>\n",
       "      <td>married</td>\n",
       "      <td>0</td>\n",
       "      <td>F</td>\n",
       "      <td>retiree</td>\n",
       "      <td>0</td>\n",
       "      <td>NaN</td>\n",
       "      <td>supplementary education</td>\n",
       "    </tr>\n",
       "    <tr>\n",
       "      <th>21032</th>\n",
       "      <td>0</td>\n",
       "      <td>NaN</td>\n",
       "      <td>60.0</td>\n",
       "      <td>secondary education</td>\n",
       "      <td>1</td>\n",
       "      <td>married</td>\n",
       "      <td>0</td>\n",
       "      <td>F</td>\n",
       "      <td>retiree</td>\n",
       "      <td>0</td>\n",
       "      <td>NaN</td>\n",
       "      <td>to become educated</td>\n",
       "    </tr>\n",
       "    <tr>\n",
       "      <th>21132</th>\n",
       "      <td>0</td>\n",
       "      <td>NaN</td>\n",
       "      <td>47.0</td>\n",
       "      <td>secondary education</td>\n",
       "      <td>1</td>\n",
       "      <td>married</td>\n",
       "      <td>0</td>\n",
       "      <td>F</td>\n",
       "      <td>employee</td>\n",
       "      <td>0</td>\n",
       "      <td>NaN</td>\n",
       "      <td>housing renovation</td>\n",
       "    </tr>\n",
       "    <tr>\n",
       "      <th>21281</th>\n",
       "      <td>1</td>\n",
       "      <td>NaN</td>\n",
       "      <td>30.0</td>\n",
       "      <td>bachelor's degree</td>\n",
       "      <td>0</td>\n",
       "      <td>married</td>\n",
       "      <td>0</td>\n",
       "      <td>F</td>\n",
       "      <td>employee</td>\n",
       "      <td>0</td>\n",
       "      <td>NaN</td>\n",
       "      <td>buy commercial real estate</td>\n",
       "    </tr>\n",
       "    <tr>\n",
       "      <th>21415</th>\n",
       "      <td>0</td>\n",
       "      <td>NaN</td>\n",
       "      <td>54.0</td>\n",
       "      <td>secondary education</td>\n",
       "      <td>1</td>\n",
       "      <td>married</td>\n",
       "      <td>0</td>\n",
       "      <td>F</td>\n",
       "      <td>retiree</td>\n",
       "      <td>0</td>\n",
       "      <td>NaN</td>\n",
       "      <td>housing transactions</td>\n",
       "    </tr>\n",
       "  </tbody>\n",
       "</table>\n",
       "<p>71 rows × 12 columns</p>\n",
       "</div>"
      ],
      "text/plain": [
       "       children  days_employed  dob_years            education  education_id  \\\n",
       "2849          0            NaN       41.0  secondary education             1   \n",
       "3290          0            NaN       58.0  secondary education             1   \n",
       "4182          1            NaN       34.0    bachelor's degree             0   \n",
       "4851          0            NaN       60.0  secondary education             1   \n",
       "5557          0            NaN       58.0  secondary education             1   \n",
       "...         ...            ...        ...                  ...           ...   \n",
       "20702         0            NaN       64.0  secondary education             1   \n",
       "21032         0            NaN       60.0  secondary education             1   \n",
       "21132         0            NaN       47.0  secondary education             1   \n",
       "21281         1            NaN       30.0    bachelor's degree             0   \n",
       "21415         0            NaN       54.0  secondary education             1   \n",
       "\n",
       "           family_status  family_status_id gender income_type  debt  \\\n",
       "2849             married                 0      F    employee     0   \n",
       "3290   civil partnership                 1      F     retiree     0   \n",
       "4182   civil partnership                 1      F    employee     0   \n",
       "4851   civil partnership                 1      F     retiree     0   \n",
       "5557   civil partnership                 1      F     retiree     0   \n",
       "...                  ...               ...    ...         ...   ...   \n",
       "20702            married                 0      F     retiree     0   \n",
       "21032            married                 0      F     retiree     0   \n",
       "21132            married                 0      F    employee     0   \n",
       "21281            married                 0      F    employee     0   \n",
       "21415            married                 0      F     retiree     0   \n",
       "\n",
       "       total_income                              purpose  \n",
       "2849            NaN  purchase of the house for my family  \n",
       "3290            NaN                    to have a wedding  \n",
       "4182            NaN                     wedding ceremony  \n",
       "4851            NaN                     wedding ceremony  \n",
       "5557            NaN                    to have a wedding  \n",
       "...             ...                                  ...  \n",
       "20702           NaN              supplementary education  \n",
       "21032           NaN                   to become educated  \n",
       "21132           NaN                   housing renovation  \n",
       "21281           NaN           buy commercial real estate  \n",
       "21415           NaN                 housing transactions  \n",
       "\n",
       "[71 rows x 12 columns]"
      ]
     },
     "execution_count": 35,
     "metadata": {},
     "output_type": "execute_result"
    }
   ],
   "source": [
    "# Comprobamos los duplicados\n",
    "dataset[dataset.duplicated()]"
   ]
  },
  {
   "cell_type": "code",
   "execution_count": 36,
   "metadata": {},
   "outputs": [],
   "source": [
    "dataset=dataset.drop_duplicates().reset_index(drop=True)# Aborda los duplicados, si existen"
   ]
  },
  {
   "cell_type": "code",
   "execution_count": 37,
   "metadata": {},
   "outputs": [
    {
     "data": {
      "text/html": [
       "<div>\n",
       "<style scoped>\n",
       "    .dataframe tbody tr th:only-of-type {\n",
       "        vertical-align: middle;\n",
       "    }\n",
       "\n",
       "    .dataframe tbody tr th {\n",
       "        vertical-align: top;\n",
       "    }\n",
       "\n",
       "    .dataframe thead th {\n",
       "        text-align: right;\n",
       "    }\n",
       "</style>\n",
       "<table border=\"1\" class=\"dataframe\">\n",
       "  <thead>\n",
       "    <tr style=\"text-align: right;\">\n",
       "      <th></th>\n",
       "      <th>children</th>\n",
       "      <th>days_employed</th>\n",
       "      <th>dob_years</th>\n",
       "      <th>education</th>\n",
       "      <th>education_id</th>\n",
       "      <th>family_status</th>\n",
       "      <th>family_status_id</th>\n",
       "      <th>gender</th>\n",
       "      <th>income_type</th>\n",
       "      <th>debt</th>\n",
       "      <th>total_income</th>\n",
       "      <th>purpose</th>\n",
       "    </tr>\n",
       "  </thead>\n",
       "  <tbody>\n",
       "  </tbody>\n",
       "</table>\n",
       "</div>"
      ],
      "text/plain": [
       "Empty DataFrame\n",
       "Columns: [children, days_employed, dob_years, education, education_id, family_status, family_status_id, gender, income_type, debt, total_income, purpose]\n",
       "Index: []"
      ]
     },
     "execution_count": 37,
     "metadata": {},
     "output_type": "execute_result"
    }
   ],
   "source": [
    "# Última comprobación para ver si tenemos duplicados\n",
    "dataset[dataset.duplicated()]"
   ]
  },
  {
   "cell_type": "code",
   "execution_count": 38,
   "metadata": {},
   "outputs": [
    {
     "name": "stdout",
     "output_type": "stream",
     "text": [
      "Número de filas: 21454\n",
      "Número de columnas: 12\n"
     ]
    }
   ],
   "source": [
    "# Comprueba el tamaño del conjunto de datos que tienes ahora, después de haber ejecutado estas primeras manipulaciones\n",
    "# Vamos a ver cuántas filas y columnas tiene nuestro conjunto de datos\n",
    "filas = len(dataset.axes[0]) \n",
    "columnas = len(dataset.axes[1]) \n",
    "  \n",
    "print('Número de filas: ' + str(filas)) \n",
    "print('Número de columnas: ' + str(columnas)) "
   ]
  },
  {
   "cell_type": "code",
   "execution_count": 93,
   "metadata": {},
   "outputs": [
    {
     "data": {
      "text/plain": [
       "0.32984901277584205"
      ]
     },
     "execution_count": 93,
     "metadata": {},
     "output_type": "execute_result"
    }
   ],
   "source": [
    "(21525-21454)*100/21525 "
   ]
  },
  {
   "cell_type": "markdown",
   "metadata": {},
   "source": [
    "Se redujo el 0.32% de filas de datos por tener información duplicada.\n"
   ]
  },
  {
   "cell_type": "markdown",
   "metadata": {},
   "source": [
    "# Trabajar con valores ausentes"
   ]
  },
  {
   "cell_type": "markdown",
   "metadata": {},
   "source": [
    "Se usarán los diccionarios de family_status_id y family_status para simplificar el código y evitar errores ortográficos. Se evitará usar diccionarios para 'education' pues es necesario realizar ciertas correcciones primero."
   ]
  },
  {
   "cell_type": "code",
   "execution_count": 40,
   "metadata": {},
   "outputs": [],
   "source": [
    "# Encuentra los diccionarios\n",
    "dicc_family_stat = {0:'married',1:'civil partnership',2:'widow / widower',3:'single',4:'single'}"
   ]
  },
  {
   "cell_type": "markdown",
   "metadata": {},
   "source": [
    "### Restauramos valores ausentes en `total_income`"
   ]
  },
  {
   "cell_type": "markdown",
   "metadata": {},
   "source": [
    "La columna 'total_income' contiene valores ausentes que serán reemplazados por el valor de la media o mediana del 'total_income' en función de los parámetros que tengan la distribución que mejor se adecúe al caso. "
   ]
  },
  {
   "cell_type": "code",
   "execution_count": 41,
   "metadata": {},
   "outputs": [],
   "source": [
    "# Vamos a escribir una función que calcule la categoría de edad\n",
    "def categ_edad(edad):\n",
    "    if edad<=18:\n",
    "        return '0 - 18'\n",
    "    elif edad<30:\n",
    "        return '19 - 29'\n",
    "    elif edad<40:\n",
    "        return '30 - 39'\n",
    "    elif edad<50:\n",
    "        return '40 - 49'\n",
    "    elif edad<60:\n",
    "        return '50 - 59'\n",
    "    elif edad<70:\n",
    "        return '60 - 69'\n",
    "    else:\n",
    "        return 'mayor a 70'"
   ]
  },
  {
   "cell_type": "code",
   "execution_count": 42,
   "metadata": {},
   "outputs": [
    {
     "data": {
      "text/plain": [
       "'40 - 49'"
      ]
     },
     "execution_count": 42,
     "metadata": {},
     "output_type": "execute_result"
    }
   ],
   "source": [
    "# Probamos si la función funciona bien\n",
    "categ_edad(45)"
   ]
  },
  {
   "cell_type": "code",
   "execution_count": 43,
   "metadata": {},
   "outputs": [],
   "source": [
    "# Creamos una nueva columna basada en la función\n",
    "dataset['categ_edad']=dataset['dob_years'].apply(categ_edad)"
   ]
  },
  {
   "cell_type": "code",
   "execution_count": 44,
   "metadata": {},
   "outputs": [
    {
     "data": {
      "text/plain": [
       "0        40 - 49\n",
       "1        30 - 39\n",
       "2        30 - 39\n",
       "3        30 - 39\n",
       "4        50 - 59\n",
       "          ...   \n",
       "21449    40 - 49\n",
       "21450    60 - 69\n",
       "21451    30 - 39\n",
       "21452    30 - 39\n",
       "21453    40 - 49\n",
       "Name: categ_edad, Length: 21454, dtype: object"
      ]
     },
     "execution_count": 44,
     "metadata": {},
     "output_type": "execute_result"
    }
   ],
   "source": [
    "# Comprobamos cómo los valores en la nueva columna\n",
    "dataset['categ_edad']"
   ]
  },
  {
   "cell_type": "code",
   "execution_count": 45,
   "metadata": {
    "scrolled": true
   },
   "outputs": [
    {
     "data": {
      "text/html": [
       "<div>\n",
       "<style scoped>\n",
       "    .dataframe tbody tr th:only-of-type {\n",
       "        vertical-align: middle;\n",
       "    }\n",
       "\n",
       "    .dataframe tbody tr th {\n",
       "        vertical-align: top;\n",
       "    }\n",
       "\n",
       "    .dataframe thead th {\n",
       "        text-align: right;\n",
       "    }\n",
       "</style>\n",
       "<table border=\"1\" class=\"dataframe\">\n",
       "  <thead>\n",
       "    <tr style=\"text-align: right;\">\n",
       "      <th></th>\n",
       "      <th>children</th>\n",
       "      <th>days_employed</th>\n",
       "      <th>dob_years</th>\n",
       "      <th>education</th>\n",
       "      <th>education_id</th>\n",
       "      <th>family_status</th>\n",
       "      <th>family_status_id</th>\n",
       "      <th>gender</th>\n",
       "      <th>income_type</th>\n",
       "      <th>debt</th>\n",
       "      <th>total_income</th>\n",
       "      <th>purpose</th>\n",
       "      <th>categ_edad</th>\n",
       "    </tr>\n",
       "  </thead>\n",
       "  <tbody>\n",
       "    <tr>\n",
       "      <th>0</th>\n",
       "      <td>1</td>\n",
       "      <td>8437.673028</td>\n",
       "      <td>42.0</td>\n",
       "      <td>bachelor's degree</td>\n",
       "      <td>0</td>\n",
       "      <td>married</td>\n",
       "      <td>0</td>\n",
       "      <td>F</td>\n",
       "      <td>employee</td>\n",
       "      <td>0</td>\n",
       "      <td>40620.102</td>\n",
       "      <td>purchase of the house</td>\n",
       "      <td>40 - 49</td>\n",
       "    </tr>\n",
       "    <tr>\n",
       "      <th>1</th>\n",
       "      <td>1</td>\n",
       "      <td>4024.803754</td>\n",
       "      <td>36.0</td>\n",
       "      <td>secondary education</td>\n",
       "      <td>1</td>\n",
       "      <td>married</td>\n",
       "      <td>0</td>\n",
       "      <td>F</td>\n",
       "      <td>employee</td>\n",
       "      <td>0</td>\n",
       "      <td>17932.802</td>\n",
       "      <td>car purchase</td>\n",
       "      <td>30 - 39</td>\n",
       "    </tr>\n",
       "    <tr>\n",
       "      <th>2</th>\n",
       "      <td>0</td>\n",
       "      <td>5623.422610</td>\n",
       "      <td>33.0</td>\n",
       "      <td>secondary education</td>\n",
       "      <td>1</td>\n",
       "      <td>married</td>\n",
       "      <td>0</td>\n",
       "      <td>M</td>\n",
       "      <td>employee</td>\n",
       "      <td>0</td>\n",
       "      <td>23341.752</td>\n",
       "      <td>purchase of the house</td>\n",
       "      <td>30 - 39</td>\n",
       "    </tr>\n",
       "    <tr>\n",
       "      <th>3</th>\n",
       "      <td>3</td>\n",
       "      <td>4124.747207</td>\n",
       "      <td>32.0</td>\n",
       "      <td>secondary education</td>\n",
       "      <td>1</td>\n",
       "      <td>married</td>\n",
       "      <td>0</td>\n",
       "      <td>M</td>\n",
       "      <td>employee</td>\n",
       "      <td>0</td>\n",
       "      <td>42820.568</td>\n",
       "      <td>supplementary education</td>\n",
       "      <td>30 - 39</td>\n",
       "    </tr>\n",
       "    <tr>\n",
       "      <th>4</th>\n",
       "      <td>0</td>\n",
       "      <td>340266.072047</td>\n",
       "      <td>53.0</td>\n",
       "      <td>secondary education</td>\n",
       "      <td>1</td>\n",
       "      <td>civil partnership</td>\n",
       "      <td>1</td>\n",
       "      <td>F</td>\n",
       "      <td>retiree</td>\n",
       "      <td>0</td>\n",
       "      <td>25378.572</td>\n",
       "      <td>to have a wedding</td>\n",
       "      <td>50 - 59</td>\n",
       "    </tr>\n",
       "    <tr>\n",
       "      <th>5</th>\n",
       "      <td>0</td>\n",
       "      <td>926.185831</td>\n",
       "      <td>27.0</td>\n",
       "      <td>bachelor's degree</td>\n",
       "      <td>0</td>\n",
       "      <td>civil partnership</td>\n",
       "      <td>1</td>\n",
       "      <td>M</td>\n",
       "      <td>business</td>\n",
       "      <td>0</td>\n",
       "      <td>40922.170</td>\n",
       "      <td>purchase of the house</td>\n",
       "      <td>19 - 29</td>\n",
       "    </tr>\n",
       "    <tr>\n",
       "      <th>6</th>\n",
       "      <td>0</td>\n",
       "      <td>2879.202052</td>\n",
       "      <td>43.0</td>\n",
       "      <td>bachelor's degree</td>\n",
       "      <td>0</td>\n",
       "      <td>married</td>\n",
       "      <td>0</td>\n",
       "      <td>F</td>\n",
       "      <td>business</td>\n",
       "      <td>0</td>\n",
       "      <td>38484.156</td>\n",
       "      <td>housing transactions</td>\n",
       "      <td>40 - 49</td>\n",
       "    </tr>\n",
       "    <tr>\n",
       "      <th>7</th>\n",
       "      <td>0</td>\n",
       "      <td>152.779569</td>\n",
       "      <td>50.0</td>\n",
       "      <td>secondary education</td>\n",
       "      <td>1</td>\n",
       "      <td>married</td>\n",
       "      <td>0</td>\n",
       "      <td>M</td>\n",
       "      <td>employee</td>\n",
       "      <td>0</td>\n",
       "      <td>21731.829</td>\n",
       "      <td>education</td>\n",
       "      <td>50 - 59</td>\n",
       "    </tr>\n",
       "    <tr>\n",
       "      <th>8</th>\n",
       "      <td>2</td>\n",
       "      <td>6929.865299</td>\n",
       "      <td>35.0</td>\n",
       "      <td>bachelor's degree</td>\n",
       "      <td>0</td>\n",
       "      <td>civil partnership</td>\n",
       "      <td>1</td>\n",
       "      <td>F</td>\n",
       "      <td>employee</td>\n",
       "      <td>0</td>\n",
       "      <td>15337.093</td>\n",
       "      <td>having a wedding</td>\n",
       "      <td>30 - 39</td>\n",
       "    </tr>\n",
       "    <tr>\n",
       "      <th>9</th>\n",
       "      <td>0</td>\n",
       "      <td>2188.756445</td>\n",
       "      <td>41.0</td>\n",
       "      <td>secondary education</td>\n",
       "      <td>1</td>\n",
       "      <td>married</td>\n",
       "      <td>0</td>\n",
       "      <td>M</td>\n",
       "      <td>employee</td>\n",
       "      <td>0</td>\n",
       "      <td>23108.150</td>\n",
       "      <td>purchase of the house for my family</td>\n",
       "      <td>40 - 49</td>\n",
       "    </tr>\n",
       "  </tbody>\n",
       "</table>\n",
       "</div>"
      ],
      "text/plain": [
       "   children  days_employed  dob_years            education  education_id  \\\n",
       "0         1    8437.673028       42.0    bachelor's degree             0   \n",
       "1         1    4024.803754       36.0  secondary education             1   \n",
       "2         0    5623.422610       33.0  secondary education             1   \n",
       "3         3    4124.747207       32.0  secondary education             1   \n",
       "4         0  340266.072047       53.0  secondary education             1   \n",
       "5         0     926.185831       27.0    bachelor's degree             0   \n",
       "6         0    2879.202052       43.0    bachelor's degree             0   \n",
       "7         0     152.779569       50.0  secondary education             1   \n",
       "8         2    6929.865299       35.0    bachelor's degree             0   \n",
       "9         0    2188.756445       41.0  secondary education             1   \n",
       "\n",
       "       family_status  family_status_id gender income_type  debt  total_income  \\\n",
       "0            married                 0      F    employee     0     40620.102   \n",
       "1            married                 0      F    employee     0     17932.802   \n",
       "2            married                 0      M    employee     0     23341.752   \n",
       "3            married                 0      M    employee     0     42820.568   \n",
       "4  civil partnership                 1      F     retiree     0     25378.572   \n",
       "5  civil partnership                 1      M    business     0     40922.170   \n",
       "6            married                 0      F    business     0     38484.156   \n",
       "7            married                 0      M    employee     0     21731.829   \n",
       "8  civil partnership                 1      F    employee     0     15337.093   \n",
       "9            married                 0      M    employee     0     23108.150   \n",
       "\n",
       "                               purpose categ_edad  \n",
       "0                purchase of the house    40 - 49  \n",
       "1                         car purchase    30 - 39  \n",
       "2                purchase of the house    30 - 39  \n",
       "3              supplementary education    30 - 39  \n",
       "4                    to have a wedding    50 - 59  \n",
       "5                purchase of the house    19 - 29  \n",
       "6                 housing transactions    40 - 49  \n",
       "7                            education    50 - 59  \n",
       "8                     having a wedding    30 - 39  \n",
       "9  purchase of the house for my family    40 - 49  "
      ]
     },
     "execution_count": 45,
     "metadata": {},
     "output_type": "execute_result"
    }
   ],
   "source": [
    "# Creamos una tabla sin valores ausentes y mostramos algunas de sus filas para asegurarte de que se ve bien\n",
    "dataset_no_null=dataset.dropna()\n",
    "dataset_no_null.head(10)"
   ]
  },
  {
   "cell_type": "code",
   "execution_count": 46,
   "metadata": {},
   "outputs": [
    {
     "data": {
      "text/plain": [
       "categ_edad\n",
       "19 - 29       25533.96\n",
       "30 - 39       28312.48\n",
       "40 - 49       28491.93\n",
       "50 - 59       25811.70\n",
       "60 - 69       23242.81\n",
       "mayor a 70    20125.66\n",
       "Name: total_income, dtype: float64"
      ]
     },
     "execution_count": 46,
     "metadata": {},
     "output_type": "execute_result"
    }
   ],
   "source": [
    "# Examinamos los valores medios de los ingresos en función de los factores que identificaste\n",
    "dataset_no_null.groupby('categ_edad')['total_income'].mean().round(2)"
   ]
  },
  {
   "cell_type": "code",
   "execution_count": 47,
   "metadata": {
    "scrolled": true
   },
   "outputs": [
    {
     "data": {
      "text/plain": [
       "categ_edad\n",
       "19 - 29       22742.65\n",
       "30 - 39       24667.53\n",
       "40 - 49       24755.70\n",
       "50 - 59       22203.07\n",
       "60 - 69       19817.44\n",
       "mayor a 70    18751.32\n",
       "Name: total_income, dtype: float64"
      ]
     },
     "execution_count": 47,
     "metadata": {},
     "output_type": "execute_result"
    }
   ],
   "source": [
    "# Examinamos los valores medianos de los ingresos en función de los factores que identificaste\n",
    "dataset_no_null.groupby('categ_edad')['total_income'].median().round(2)"
   ]
  },
  {
   "cell_type": "code",
   "execution_count": 48,
   "metadata": {
    "scrolled": true
   },
   "outputs": [
    {
     "data": {
      "text/plain": [
       "education\n",
       "bachelor's degree      33142.80\n",
       "graduate degree        27960.02\n",
       "primary education      21144.88\n",
       "secondary education    24594.50\n",
       "some college           29045.44\n",
       "Name: total_income, dtype: float64"
      ]
     },
     "execution_count": 48,
     "metadata": {},
     "output_type": "execute_result"
    }
   ],
   "source": [
    "dataset_no_null.groupby('education')['total_income'].mean().round(2)"
   ]
  },
  {
   "cell_type": "code",
   "execution_count": 49,
   "metadata": {},
   "outputs": [
    {
     "data": {
      "text/plain": [
       "education\n",
       "bachelor's degree      28054.53\n",
       "graduate degree        25161.58\n",
       "primary education      18741.98\n",
       "secondary education    21836.58\n",
       "some college           25618.46\n",
       "Name: total_income, dtype: float64"
      ]
     },
     "execution_count": 49,
     "metadata": {},
     "output_type": "execute_result"
    }
   ],
   "source": [
    "dataset_no_null.groupby('education')['total_income'].median().round(2)"
   ]
  },
  {
   "cell_type": "code",
   "execution_count": 50,
   "metadata": {},
   "outputs": [
    {
     "data": {
      "text/plain": [
       "gender\n",
       "F      24655.60\n",
       "M      30907.14\n",
       "XNA    32624.82\n",
       "Name: total_income, dtype: float64"
      ]
     },
     "execution_count": 50,
     "metadata": {},
     "output_type": "execute_result"
    }
   ],
   "source": [
    "dataset_no_null.groupby('gender')['total_income'].mean().round(2)"
   ]
  },
  {
   "cell_type": "code",
   "execution_count": 51,
   "metadata": {},
   "outputs": [
    {
     "data": {
      "text/plain": [
       "gender\n",
       "F      21464.84\n",
       "M      26834.30\n",
       "XNA    32624.82\n",
       "Name: total_income, dtype: float64"
      ]
     },
     "execution_count": 51,
     "metadata": {},
     "output_type": "execute_result"
    }
   ],
   "source": [
    "dataset_no_null.groupby('gender')['total_income'].median().round(2)"
   ]
  },
  {
   "cell_type": "code",
   "execution_count": 52,
   "metadata": {},
   "outputs": [
    {
     "data": {
      "text/plain": [
       "income_type\n",
       "business                       32397.17\n",
       "civil servant                  27343.73\n",
       "employee                       25820.84\n",
       "paternity / maternity leave     8612.66\n",
       "retiree                        21940.39\n",
       "student                        15712.26\n",
       "unemployed                     21014.36\n",
       "Name: total_income, dtype: float64"
      ]
     },
     "execution_count": 52,
     "metadata": {},
     "output_type": "execute_result"
    }
   ],
   "source": [
    "dataset_no_null.groupby('income_type')['total_income'].mean().round(2)"
   ]
  },
  {
   "cell_type": "code",
   "execution_count": 53,
   "metadata": {},
   "outputs": [
    {
     "data": {
      "text/plain": [
       "income_type\n",
       "business                       27583.36\n",
       "civil servant                  24071.67\n",
       "employee                       22815.10\n",
       "paternity / maternity leave     8612.66\n",
       "retiree                        18962.32\n",
       "student                        15712.26\n",
       "unemployed                     21014.36\n",
       "Name: total_income, dtype: float64"
      ]
     },
     "execution_count": 53,
     "metadata": {},
     "output_type": "execute_result"
    }
   ],
   "source": [
    "dataset_no_null.groupby('income_type')['total_income'].median().round(2)"
   ]
  },
  {
   "cell_type": "markdown",
   "metadata": {},
   "source": [
    "Las características que mejor definen los ingresos debido a la mayor variación entre mínimos y máximos sería la mediana de la columna 'income_type'."
   ]
  },
  {
   "cell_type": "code",
   "execution_count": 54,
   "metadata": {},
   "outputs": [
    {
     "data": {
      "text/plain": [
       "income_type\n",
       "business                       27583.36\n",
       "civil servant                  24071.67\n",
       "employee                       22815.10\n",
       "paternity / maternity leave     8612.66\n",
       "retiree                        18962.32\n",
       "student                        15712.26\n",
       "unemployed                     21014.36\n",
       "Name: total_income, dtype: float64"
      ]
     },
     "execution_count": 54,
     "metadata": {},
     "output_type": "execute_result"
    }
   ],
   "source": [
    "median_total_income=dataset_no_null.groupby('income_type')['total_income'].median().round(2)\n",
    "median_total_income"
   ]
  },
  {
   "cell_type": "code",
   "execution_count": 55,
   "metadata": {},
   "outputs": [
    {
     "data": {
      "text/plain": [
       "22815.1"
      ]
     },
     "execution_count": 55,
     "metadata": {},
     "output_type": "execute_result"
    }
   ],
   "source": [
    "dataset_no_null.groupby('income_type')['total_income'].median().round(2).loc['employee']"
   ]
  },
  {
   "cell_type": "code",
   "execution_count": 56,
   "metadata": {},
   "outputs": [],
   "source": [
    "#  Escribimos una función que usaremos para completar los valores ausentes\n",
    "def reemplazar_ausentes(df):\n",
    "    df1=dataset.loc[dataset['income_type']=='business','days_employed'].fillna(value=median_total_income.loc['business']) #.isna().sum()#=123 #\n",
    "    df1=df1.append(dataset.loc[dataset['income_type']=='employee','days_employed'].fillna(value=median_total_income.loc['employee'])).sort_index()\n",
    "    df1=df1.append(dataset.loc[dataset['income_type']=='paternity / maternity leave','days_employed'].fillna(value=median_total_income.loc['paternity / maternity leave'])).sort_index()\n",
    "    df1=df1.append(dataset.loc[dataset['income_type']=='retiree','days_employed'].fillna(value=median_total_income.loc['retiree'])).sort_index()\n",
    "    df1=df1.append(dataset.loc[dataset['income_type']=='student','days_employed'].fillna(value=median_total_income.loc['student'])).sort_index()\n",
    "    df1=df1.append(dataset.loc[dataset['income_type']=='unemployed','days_employed'].fillna(value=median_total_income.loc['unemployed'])).sort_index()\n",
    "    df1=df1.append(dataset.loc[dataset['income_type']=='civil servant','days_employed'].fillna(value=median_total_income.loc['civil servant'])).sort_index()\n",
    "    return df1"
   ]
  },
  {
   "cell_type": "code",
   "execution_count": 57,
   "metadata": {},
   "outputs": [
    {
     "data": {
      "text/plain": [
       "2103"
      ]
     },
     "execution_count": 57,
     "metadata": {},
     "output_type": "execute_result"
    }
   ],
   "source": [
    "# Comprobamos si funciona\n",
    "dataset['total_income'].isna().sum()"
   ]
  },
  {
   "cell_type": "code",
   "execution_count": 58,
   "metadata": {},
   "outputs": [],
   "source": [
    "dataset['total_income']=reemplazar_ausentes(dataset)"
   ]
  },
  {
   "cell_type": "code",
   "execution_count": 59,
   "metadata": {},
   "outputs": [
    {
     "data": {
      "text/plain": [
       "0"
      ]
     },
     "execution_count": 59,
     "metadata": {},
     "output_type": "execute_result"
    }
   ],
   "source": [
    "dataset['total_income'].isna().sum()"
   ]
  },
  {
   "cell_type": "code",
   "execution_count": 60,
   "metadata": {},
   "outputs": [
    {
     "data": {
      "text/plain": [
       "0        False\n",
       "1        False\n",
       "2        False\n",
       "3        False\n",
       "4        False\n",
       "         ...  \n",
       "21449    False\n",
       "21450    False\n",
       "21451    False\n",
       "21452    False\n",
       "21453    False\n",
       "Name: total_income, Length: 21454, dtype: bool"
      ]
     },
     "execution_count": 60,
     "metadata": {},
     "output_type": "execute_result"
    }
   ],
   "source": [
    "# Reemplazamos los valores ausentes si hay algún error\n",
    "dataset['total_income'].isna()"
   ]
  },
  {
   "cell_type": "code",
   "execution_count": 61,
   "metadata": {},
   "outputs": [
    {
     "name": "stdout",
     "output_type": "stream",
     "text": [
      "<class 'pandas.core.frame.DataFrame'>\n",
      "RangeIndex: 21454 entries, 0 to 21453\n",
      "Data columns (total 13 columns):\n",
      " #   Column            Non-Null Count  Dtype  \n",
      "---  ------            --------------  -----  \n",
      " 0   children          21454 non-null  int64  \n",
      " 1   days_employed     19351 non-null  float64\n",
      " 2   dob_years         21454 non-null  float64\n",
      " 3   education         21454 non-null  object \n",
      " 4   education_id      21454 non-null  int64  \n",
      " 5   family_status     21454 non-null  object \n",
      " 6   family_status_id  21454 non-null  int64  \n",
      " 7   gender            21454 non-null  object \n",
      " 8   income_type       21454 non-null  object \n",
      " 9   debt              21454 non-null  int64  \n",
      " 10  total_income      21454 non-null  float64\n",
      " 11  purpose           21454 non-null  object \n",
      " 12  categ_edad        21454 non-null  object \n",
      "dtypes: float64(3), int64(4), object(6)\n",
      "memory usage: 2.1+ MB\n"
     ]
    }
   ],
   "source": [
    "dataset.info()"
   ]
  },
  {
   "cell_type": "markdown",
   "metadata": {},
   "source": [
    "###  Restauración de valores en `days_employed`"
   ]
  },
  {
   "cell_type": "markdown",
   "metadata": {},
   "source": [
    "La columna 'days_employed' contiene valores ausentes que serán reemplazados por el valor de la media o mediana del 'days_employed' en función de los parámetros que tengan la distribución que mejor se adecúe al caso. Se hará las comparaciones para las columnas 'categ_edad', 'education' e 'income_type'."
   ]
  },
  {
   "cell_type": "code",
   "execution_count": 62,
   "metadata": {
    "pycharm": {
     "name": "#%%\n"
    }
   },
   "outputs": [
    {
     "data": {
      "text/plain": [
       "categ_edad\n",
       "19 - 29          999.03\n",
       "30 - 39         1601.78\n",
       "40 - 49         2108.53\n",
       "50 - 59         4796.77\n",
       "60 - 69       354935.62\n",
       "mayor a 70    361336.99\n",
       "Name: days_employed, dtype: float64"
      ]
     },
     "execution_count": 62,
     "metadata": {},
     "output_type": "execute_result"
    }
   ],
   "source": [
    "# Distribución de las medianas de `days_employed` en función de los parámetros identificados\n",
    "dataset_no_null.groupby('categ_edad')['days_employed'].median().round(2)"
   ]
  },
  {
   "cell_type": "code",
   "execution_count": 63,
   "metadata": {},
   "outputs": [
    {
     "data": {
      "text/plain": [
       "categ_edad\n",
       "19 - 29         2082.49\n",
       "30 - 39         4155.03\n",
       "40 - 49        13439.23\n",
       "50 - 59       132907.55\n",
       "60 - 69       283926.48\n",
       "mayor a 70    320819.15\n",
       "Name: days_employed, dtype: float64"
      ]
     },
     "execution_count": 63,
     "metadata": {},
     "output_type": "execute_result"
    }
   ],
   "source": [
    "# Distribución de las medias de `days_employed` en función de los parámetros identificados\n",
    "dataset_no_null.groupby('categ_edad')['days_employed'].mean().round(2)"
   ]
  },
  {
   "cell_type": "code",
   "execution_count": 64,
   "metadata": {},
   "outputs": [
    {
     "data": {
      "text/plain": [
       "education\n",
       "bachelor's degree      1895.75\n",
       "graduate degree        5660.06\n",
       "primary education      3043.93\n",
       "secondary education    2392.48\n",
       "some college           1209.13\n",
       "Name: days_employed, dtype: float64"
      ]
     },
     "execution_count": 64,
     "metadata": {},
     "output_type": "execute_result"
    }
   ],
   "source": [
    "dataset_no_null.groupby('education')['days_employed'].median().round(2)"
   ]
  },
  {
   "cell_type": "code",
   "execution_count": 65,
   "metadata": {},
   "outputs": [
    {
     "data": {
      "text/plain": [
       "education\n",
       "bachelor's degree       42375.41\n",
       "graduate degree        121323.63\n",
       "primary education      130340.43\n",
       "secondary education     76413.82\n",
       "some college            20656.63\n",
       "Name: days_employed, dtype: float64"
      ]
     },
     "execution_count": 65,
     "metadata": {},
     "output_type": "execute_result"
    }
   ],
   "source": [
    "dataset_no_null.groupby('education')['days_employed'].mean().round(2)"
   ]
  },
  {
   "cell_type": "code",
   "execution_count": 66,
   "metadata": {},
   "outputs": [
    {
     "data": {
      "text/plain": [
       "income_type\n",
       "business                         1546.33\n",
       "civil servant                    2689.37\n",
       "employee                         1574.20\n",
       "paternity / maternity leave      3296.76\n",
       "retiree                        365213.31\n",
       "student                           578.75\n",
       "unemployed                     366413.65\n",
       "Name: days_employed, dtype: float64"
      ]
     },
     "execution_count": 66,
     "metadata": {},
     "output_type": "execute_result"
    }
   ],
   "source": [
    "dataset_no_null.groupby('income_type')['days_employed'].median().round(2)"
   ]
  },
  {
   "cell_type": "code",
   "execution_count": 67,
   "metadata": {},
   "outputs": [
    {
     "data": {
      "text/plain": [
       "income_type\n",
       "business                         2111.18\n",
       "civil servant                    3399.90\n",
       "employee                         2326.50\n",
       "paternity / maternity leave      3296.76\n",
       "retiree                        365003.49\n",
       "student                           578.75\n",
       "unemployed                     366413.65\n",
       "Name: days_employed, dtype: float64"
      ]
     },
     "execution_count": 67,
     "metadata": {},
     "output_type": "execute_result"
    }
   ],
   "source": [
    "dataset_no_null.groupby('income_type')['days_employed'].mean().round(2)"
   ]
  },
  {
   "cell_type": "markdown",
   "metadata": {},
   "source": [
    "Se usarán los promedios de 'income_type' para reemplazar los valores ausentes en 'days_employed'. Si bien no hay mucha diferencia comparando con las medianas, los promedios de business y employee tienen un valor más cercano al promedio y mediana general de 'income_type'."
   ]
  },
  {
   "cell_type": "code",
   "execution_count": 68,
   "metadata": {},
   "outputs": [],
   "source": [
    "# Escribimos una función que calcule medias o medianas (dependiendo de tu decisión) según el parámetro identificado\n",
    "def calcular_medias(parametro):\n",
    "    media=dataset_no_null.groupby(parametro)['days_employed'].mean().round(2)\n",
    "    return media"
   ]
  },
  {
   "cell_type": "code",
   "execution_count": 69,
   "metadata": {},
   "outputs": [
    {
     "data": {
      "text/plain": [
       "gender\n",
       "F      82397.77\n",
       "M      37000.33\n",
       "XNA     2358.60\n",
       "Name: days_employed, dtype: float64"
      ]
     },
     "execution_count": 69,
     "metadata": {},
     "output_type": "execute_result"
    }
   ],
   "source": [
    "# Comprobamos que la función funciona\n",
    "calcular_medias(dataset['gender'])"
   ]
  },
  {
   "cell_type": "code",
   "execution_count": 70,
   "metadata": {},
   "outputs": [],
   "source": [
    "# Aplicamos la función al income_type\n",
    "medias_income_type=calcular_medias(dataset['income_type'])"
   ]
  },
  {
   "cell_type": "code",
   "execution_count": 71,
   "metadata": {},
   "outputs": [
    {
     "data": {
      "text/plain": [
       "income_type\n",
       "business                         2111.18\n",
       "civil servant                    3399.90\n",
       "employee                         2326.50\n",
       "paternity / maternity leave      3296.76\n",
       "retiree                        365003.49\n",
       "student                           578.75\n",
       "unemployed                     366413.65\n",
       "Name: days_employed, dtype: float64"
      ]
     },
     "execution_count": 71,
     "metadata": {},
     "output_type": "execute_result"
    }
   ],
   "source": [
    "# Comprobamos si la función funcionó\n",
    "medias_income_type"
   ]
  },
  {
   "cell_type": "code",
   "execution_count": 73,
   "metadata": {},
   "outputs": [
    {
     "data": {
      "text/plain": [
       "2103"
      ]
     },
     "execution_count": 73,
     "metadata": {},
     "output_type": "execute_result"
    }
   ],
   "source": [
    "dataset['days_employed'].isna().sum()"
   ]
  },
  {
   "cell_type": "code",
   "execution_count": 74,
   "metadata": {},
   "outputs": [
    {
     "data": {
      "text/plain": [
       "365003.49"
      ]
     },
     "execution_count": 74,
     "metadata": {},
     "output_type": "execute_result"
    }
   ],
   "source": [
    "medias_income_type.loc['retiree']"
   ]
  },
  {
   "cell_type": "code",
   "execution_count": 75,
   "metadata": {},
   "outputs": [],
   "source": [
    "# Reemplazar valores ausentes\n",
    "df2=dataset.loc[dataset['income_type']=='business','days_employed'].fillna(value=medias_income_type.loc['business']) #.isna().sum()#=123 #\n",
    "df2=df2.append(dataset.loc[dataset['income_type']=='employee','days_employed'].fillna(value=medias_income_type.loc['employee'])).sort_index()\n",
    "df2=df2.append(dataset.loc[dataset['income_type']=='paternity / maternity leave','days_employed'].fillna(value=medias_income_type.loc['paternity / maternity leave'])).sort_index()\n",
    "df2=df2.append(dataset.loc[dataset['income_type']=='retiree','days_employed'].fillna(value=medias_income_type.loc['retiree'])).sort_index()\n",
    "df2=df2.append(dataset.loc[dataset['income_type']=='student','days_employed'].fillna(value=medias_income_type.loc['student'])).sort_index()\n",
    "df2=df2.append(dataset.loc[dataset['income_type']=='unemployed','days_employed'].fillna(value=medias_income_type.loc['unemployed'])).sort_index()\n",
    "df2=df2.append(dataset.loc[dataset['income_type']=='civil servant','days_employed'].fillna(value=medias_income_type.loc['civil servant'])).sort_index()"
   ]
  },
  {
   "cell_type": "code",
   "execution_count": 76,
   "metadata": {},
   "outputs": [],
   "source": [
    "dataset['days_employed']=df2"
   ]
  },
  {
   "cell_type": "code",
   "execution_count": 77,
   "metadata": {},
   "outputs": [
    {
     "name": "stdout",
     "output_type": "stream",
     "text": [
      "<class 'pandas.core.frame.DataFrame'>\n",
      "RangeIndex: 21454 entries, 0 to 21453\n",
      "Data columns (total 13 columns):\n",
      " #   Column            Non-Null Count  Dtype  \n",
      "---  ------            --------------  -----  \n",
      " 0   children          21454 non-null  int64  \n",
      " 1   days_employed     21454 non-null  float64\n",
      " 2   dob_years         21454 non-null  float64\n",
      " 3   education         21454 non-null  object \n",
      " 4   education_id      21454 non-null  int64  \n",
      " 5   family_status     21454 non-null  object \n",
      " 6   family_status_id  21454 non-null  int64  \n",
      " 7   gender            21454 non-null  object \n",
      " 8   income_type       21454 non-null  object \n",
      " 9   debt              21454 non-null  int64  \n",
      " 10  total_income      21454 non-null  float64\n",
      " 11  purpose           21454 non-null  object \n",
      " 12  categ_edad        21454 non-null  object \n",
      "dtypes: float64(3), int64(4), object(6)\n",
      "memory usage: 2.1+ MB\n"
     ]
    }
   ],
   "source": [
    "dataset.info()"
   ]
  },
  {
   "cell_type": "markdown",
   "metadata": {},
   "source": [
    "Habiendo realizado el reemplazo de los valores ausentes, todas las columnas poseen la misma cantidad de filas."
   ]
  },
  {
   "cell_type": "markdown",
   "metadata": {},
   "source": [
    "## Clasificación de datos\n",
    "\n",
    "Se clasificaron los datos de 'purpose' resumidos en categorías de tal forma que se eviten duplicados no implícitos."
   ]
  },
  {
   "cell_type": "code",
   "execution_count": 78,
   "metadata": {
    "scrolled": true
   },
   "outputs": [
    {
     "data": {
      "text/plain": [
       "wedding ceremony                            791\n",
       "having a wedding                            768\n",
       "to have a wedding                           765\n",
       "real estate transactions                    675\n",
       "buy commercial real estate                  661\n",
       "housing transactions                        652\n",
       "buying property for renting out             651\n",
       "transactions with commercial real estate    650\n",
       "purchase of the house                       646\n",
       "housing                                     646\n",
       "purchase of the house for my family         638\n",
       "construction of own property                635\n",
       "property                                    633\n",
       "transactions with my real estate            627\n",
       "building a real estate                      624\n",
       "buy real estate                             621\n",
       "purchase of my own house                    620\n",
       "building a property                         619\n",
       "housing renovation                          607\n",
       "buy residential real estate                 606\n",
       "buying my own car                           505\n",
       "going to university                         496\n",
       "car                                         494\n",
       "second-hand car purchase                    486\n",
       "buying a second-hand car                    478\n",
       "to own a car                                478\n",
       "cars                                        478\n",
       "to buy a car                                471\n",
       "car purchase                                461\n",
       "supplementary education                     460\n",
       "purchase of a car                           455\n",
       "university education                        452\n",
       "education                                   447\n",
       "to get a supplementary education            446\n",
       "getting an education                        442\n",
       "profile education                           436\n",
       "getting higher education                    426\n",
       "to become educated                          408\n",
       "Name: purpose, dtype: int64"
      ]
     },
     "execution_count": 78,
     "metadata": {},
     "output_type": "execute_result"
    }
   ],
   "source": [
    "# Mostramos los valores de los datos seleccionados para la clasificación\n",
    "dataset['purpose'].value_counts()"
   ]
  },
  {
   "cell_type": "code",
   "execution_count": 79,
   "metadata": {},
   "outputs": [
    {
     "data": {
      "text/plain": [
       "array(['purchase of the house', 'car purchase', 'supplementary education',\n",
       "       'to have a wedding', 'housing transactions', 'education',\n",
       "       'having a wedding', 'purchase of the house for my family',\n",
       "       'buy real estate', 'buy commercial real estate',\n",
       "       'buy residential real estate', 'construction of own property',\n",
       "       'property', 'building a property', 'buying a second-hand car',\n",
       "       'buying my own car', 'transactions with commercial real estate',\n",
       "       'building a real estate', 'housing',\n",
       "       'transactions with my real estate', 'cars', 'to become educated',\n",
       "       'second-hand car purchase', 'getting an education', 'car',\n",
       "       'wedding ceremony', 'to get a supplementary education',\n",
       "       'purchase of my own house', 'real estate transactions',\n",
       "       'getting higher education', 'to own a car', 'purchase of a car',\n",
       "       'profile education', 'university education',\n",
       "       'buying property for renting out', 'to buy a car',\n",
       "       'housing renovation', 'going to university'], dtype=object)"
      ]
     },
     "execution_count": 79,
     "metadata": {},
     "output_type": "execute_result"
    }
   ],
   "source": [
    "# Comprobamos los valores únicos\n",
    "dataset['purpose'].unique()"
   ]
  },
  {
   "cell_type": "markdown",
   "metadata": {},
   "source": [
    "Se identificaron 5 grupos principales: car, wedding, education, housing y business. "
   ]
  },
  {
   "cell_type": "code",
   "execution_count": 80,
   "metadata": {},
   "outputs": [],
   "source": [
    "# Escribimos una función para clasificar los datos en función de temas comunes\n",
    "def categ_purp(purpose):\n",
    "    if purpose=='supplementary education' or purpose=='education' or purpose=='to become educated' or purpose=='going to university'or purpose=='getting an education' or purpose=='university education' or purpose =='profile education' or purpose=='getting higher education'or purpose=='to get a supplementary education':\n",
    "        return 'education'\n",
    "    elif purpose=='purchase of the house' or purpose=='construction of own property' or purpose=='buy residential real estate' or purpose=='building a property' or purpose=='property' or purpose=='housing' or purpose=='building a real estate' or purpose=='housing transactions' or purpose=='purchase of the house for my family' or purpose=='housing renovation' or purpose=='purchase of my own house' or purpose=='buy real estate':\n",
    "        return 'housing'\n",
    "    elif purpose=='cars' or purpose=='car purchase' or purpose =='purchase of a car' or purpose=='to buy a car' or purpose=='to own a car' or purpose=='second-hand car purchase'or purpose=='buying a second-hand car'or purpose=='buying my own car':\n",
    "        return 'car'\n",
    "    elif purpose=='to have a wedding' or purpose=='wedding ceremony'or purpose=='having a wedding':\n",
    "        return 'wedding'\n",
    "    elif purpose=='buying property for renting out' or purpose=='transactions with commercial real estate' or purpose=='transactions with my real estate'or purpose=='buy commercial real estate' or purpose=='real estate transactions':\n",
    "        return 'business'"
   ]
  },
  {
   "cell_type": "code",
   "execution_count": 81,
   "metadata": {},
   "outputs": [],
   "source": [
    "#función que crea tabla \n",
    "def clasificacion(category):\n",
    "    data_pivot = dataset.pivot_table(index=category, columns='debt', aggfunc='count')\n",
    "    return data_pivot"
   ]
  },
  {
   "cell_type": "code",
   "execution_count": 82,
   "metadata": {},
   "outputs": [
    {
     "data": {
      "text/plain": [
       "housing      7547\n",
       "education    4013\n",
       "car          3812\n",
       "business     3264\n",
       "wedding      2324\n",
       "Name: categ_purpose, dtype: int64"
      ]
     },
     "execution_count": 82,
     "metadata": {},
     "output_type": "execute_result"
    }
   ],
   "source": [
    "# Creamos una columna con las categorías y cuenta los valores en ellas\n",
    "dataset['categ_purpose']=dataset['purpose'].apply(categ_purp)\n",
    "dataset['categ_purpose'].value_counts()"
   ]
  },
  {
   "cell_type": "code",
   "execution_count": 83,
   "metadata": {},
   "outputs": [
    {
     "data": {
      "text/html": [
       "<div>\n",
       "<style scoped>\n",
       "    .dataframe tbody tr th:only-of-type {\n",
       "        vertical-align: middle;\n",
       "    }\n",
       "\n",
       "    .dataframe tbody tr th {\n",
       "        vertical-align: top;\n",
       "    }\n",
       "\n",
       "    .dataframe thead th {\n",
       "        text-align: right;\n",
       "    }\n",
       "</style>\n",
       "<table border=\"1\" class=\"dataframe\">\n",
       "  <thead>\n",
       "    <tr style=\"text-align: right;\">\n",
       "      <th>debt</th>\n",
       "      <th>0</th>\n",
       "      <th>1</th>\n",
       "    </tr>\n",
       "    <tr>\n",
       "      <th>categ_purpose</th>\n",
       "      <th></th>\n",
       "      <th></th>\n",
       "    </tr>\n",
       "  </thead>\n",
       "  <tbody>\n",
       "    <tr>\n",
       "      <th>business</th>\n",
       "      <td>3008</td>\n",
       "      <td>256</td>\n",
       "    </tr>\n",
       "    <tr>\n",
       "      <th>car</th>\n",
       "      <td>3451</td>\n",
       "      <td>361</td>\n",
       "    </tr>\n",
       "    <tr>\n",
       "      <th>education</th>\n",
       "      <td>3643</td>\n",
       "      <td>370</td>\n",
       "    </tr>\n",
       "    <tr>\n",
       "      <th>housing</th>\n",
       "      <td>7021</td>\n",
       "      <td>526</td>\n",
       "    </tr>\n",
       "    <tr>\n",
       "      <th>wedding</th>\n",
       "      <td>2138</td>\n",
       "      <td>186</td>\n",
       "    </tr>\n",
       "  </tbody>\n",
       "</table>\n",
       "</div>"
      ],
      "text/plain": [
       "debt              0    1\n",
       "categ_purpose           \n",
       "business       3008  256\n",
       "car            3451  361\n",
       "education      3643  370\n",
       "housing        7021  526\n",
       "wedding        2138  186"
      ]
     },
     "execution_count": 83,
     "metadata": {},
     "output_type": "execute_result"
    }
   ],
   "source": [
    "# Revisamos todos los datos numéricos en la columna seleccionada para la clasificación\n",
    "clasificacion('categ_purpose')['categ_edad']"
   ]
  },
  {
   "cell_type": "code",
   "execution_count": 84,
   "metadata": {},
   "outputs": [
    {
     "data": {
      "text/plain": [
       "count       20960\n",
       "unique          5\n",
       "top       housing\n",
       "freq         7547\n",
       "Name: categ_purpose, dtype: object"
      ]
     },
     "execution_count": 84,
     "metadata": {},
     "output_type": "execute_result"
    }
   ],
   "source": [
    "dataset['categ_purpose'].describe()"
   ]
  },
  {
   "cell_type": "markdown",
   "metadata": {},
   "source": [
    "Se realizó una clasificación de los datos numéricos en 'total_income' dividido en cuartiles."
   ]
  },
  {
   "cell_type": "code",
   "execution_count": 85,
   "metadata": {},
   "outputs": [],
   "source": [
    "# Creamos una función para clasificar en diferentes grupos numéricos basándose en rangos\n",
    "\n",
    "#cuartiles de 'total_income'\n",
    "q=dataset['total_income'].quantile([.25, .5, .75])\n",
    "\n",
    "#función que clasificará según cuartiles de 'total_income' \n",
    "def categ_rang(column):\n",
    "    if column<=q[0.25]:\n",
    "        return '1er cuartil'\n",
    "    elif column<=q[0.5]:\n",
    "        return '2do cuartil'\n",
    "    elif column<=q[0.75]:\n",
    "        return '3er cuartil'\n",
    "    else:\n",
    "        return '4to cuartil'    "
   ]
  },
  {
   "cell_type": "code",
   "execution_count": 86,
   "metadata": {},
   "outputs": [],
   "source": [
    "dataset['cuartil_total_income']=dataset['total_income'].apply(categ_rang)"
   ]
  },
  {
   "cell_type": "code",
   "execution_count": 87,
   "metadata": {
    "scrolled": true
   },
   "outputs": [
    {
     "data": {
      "text/plain": [
       "3er cuartil    5565\n",
       "1er cuartil    5364\n",
       "2do cuartil    5363\n",
       "4to cuartil    5162\n",
       "Name: cuartil_total_income, dtype: int64"
      ]
     },
     "execution_count": 87,
     "metadata": {},
     "output_type": "execute_result"
    }
   ],
   "source": [
    "dataset['cuartil_total_income'].value_counts()"
   ]
  },
  {
   "cell_type": "markdown",
   "metadata": {},
   "source": [
    "## Comprobación de las hipótesis\n"
   ]
  },
  {
   "cell_type": "markdown",
   "metadata": {},
   "source": [
    "**¿Existe una correlación entre tener hijos y pagar a tiempo?**"
   ]
  },
  {
   "cell_type": "code",
   "execution_count": 88,
   "metadata": {},
   "outputs": [
    {
     "data": {
      "text/html": [
       "<div>\n",
       "<style scoped>\n",
       "    .dataframe tbody tr th:only-of-type {\n",
       "        vertical-align: middle;\n",
       "    }\n",
       "\n",
       "    .dataframe tbody tr th {\n",
       "        vertical-align: top;\n",
       "    }\n",
       "\n",
       "    .dataframe thead th {\n",
       "        text-align: right;\n",
       "    }\n",
       "</style>\n",
       "<table border=\"1\" class=\"dataframe\">\n",
       "  <thead>\n",
       "    <tr style=\"text-align: right;\">\n",
       "      <th>debt</th>\n",
       "      <th>0</th>\n",
       "      <th>1</th>\n",
       "      <th>total</th>\n",
       "      <th>tasa</th>\n",
       "    </tr>\n",
       "    <tr>\n",
       "      <th>children</th>\n",
       "      <th></th>\n",
       "      <th></th>\n",
       "      <th></th>\n",
       "      <th></th>\n",
       "    </tr>\n",
       "  </thead>\n",
       "  <tbody>\n",
       "    <tr>\n",
       "      <th>0</th>\n",
       "      <td>13028.0</td>\n",
       "      <td>1063.0</td>\n",
       "      <td>14091.0</td>\n",
       "      <td>0.075438</td>\n",
       "    </tr>\n",
       "    <tr>\n",
       "      <th>1</th>\n",
       "      <td>4410.0</td>\n",
       "      <td>445.0</td>\n",
       "      <td>4855.0</td>\n",
       "      <td>0.091658</td>\n",
       "    </tr>\n",
       "    <tr>\n",
       "      <th>2</th>\n",
       "      <td>1926.0</td>\n",
       "      <td>202.0</td>\n",
       "      <td>2128.0</td>\n",
       "      <td>0.094925</td>\n",
       "    </tr>\n",
       "    <tr>\n",
       "      <th>3</th>\n",
       "      <td>303.0</td>\n",
       "      <td>27.0</td>\n",
       "      <td>330.0</td>\n",
       "      <td>0.081818</td>\n",
       "    </tr>\n",
       "    <tr>\n",
       "      <th>4</th>\n",
       "      <td>37.0</td>\n",
       "      <td>4.0</td>\n",
       "      <td>41.0</td>\n",
       "      <td>0.097561</td>\n",
       "    </tr>\n",
       "    <tr>\n",
       "      <th>5</th>\n",
       "      <td>9.0</td>\n",
       "      <td>NaN</td>\n",
       "      <td>NaN</td>\n",
       "      <td>NaN</td>\n",
       "    </tr>\n",
       "  </tbody>\n",
       "</table>\n",
       "</div>"
      ],
      "text/plain": [
       "debt            0       1    total      tasa\n",
       "children                                    \n",
       "0         13028.0  1063.0  14091.0  0.075438\n",
       "1          4410.0   445.0   4855.0  0.091658\n",
       "2          1926.0   202.0   2128.0  0.094925\n",
       "3           303.0    27.0    330.0  0.081818\n",
       "4            37.0     4.0     41.0  0.097561\n",
       "5             9.0     NaN      NaN       NaN"
      ]
     },
     "execution_count": 88,
     "metadata": {},
     "output_type": "execute_result"
    }
   ],
   "source": [
    "tabla_1=clasificacion('children')['categ_edad']\n",
    "tabla_1['total']=tabla_1[0]+tabla_1[1]\n",
    "tabla_1['tasa']=tabla_1[1]/tabla_1['total']\n",
    "tabla_1\n"
   ]
  },
  {
   "cell_type": "code",
   "execution_count": 89,
   "metadata": {},
   "outputs": [
    {
     "data": {
      "text/html": [
       "<div>\n",
       "<style scoped>\n",
       "    .dataframe tbody tr th:only-of-type {\n",
       "        vertical-align: middle;\n",
       "    }\n",
       "\n",
       "    .dataframe tbody tr th {\n",
       "        vertical-align: top;\n",
       "    }\n",
       "\n",
       "    .dataframe thead th {\n",
       "        text-align: right;\n",
       "    }\n",
       "</style>\n",
       "<table border=\"1\" class=\"dataframe\">\n",
       "  <thead>\n",
       "    <tr style=\"text-align: right;\">\n",
       "      <th></th>\n",
       "      <th>debt</th>\n",
       "      <th>0</th>\n",
       "      <th>1</th>\n",
       "      <th>total</th>\n",
       "      <th>tasa</th>\n",
       "    </tr>\n",
       "    <tr>\n",
       "      <th>children</th>\n",
       "      <th>categ_edad</th>\n",
       "      <th></th>\n",
       "      <th></th>\n",
       "      <th></th>\n",
       "      <th></th>\n",
       "    </tr>\n",
       "  </thead>\n",
       "  <tbody>\n",
       "    <tr>\n",
       "      <th rowspan=\"6\" valign=\"top\">0</th>\n",
       "      <th>19 - 29</th>\n",
       "      <td>1669.0</td>\n",
       "      <td>204.0</td>\n",
       "      <td>1873.0</td>\n",
       "      <td>0.108916</td>\n",
       "    </tr>\n",
       "    <tr>\n",
       "      <th>30 - 39</th>\n",
       "      <td>2061.0</td>\n",
       "      <td>217.0</td>\n",
       "      <td>2278.0</td>\n",
       "      <td>0.095259</td>\n",
       "    </tr>\n",
       "    <tr>\n",
       "      <th>40 - 49</th>\n",
       "      <td>3130.0</td>\n",
       "      <td>248.0</td>\n",
       "      <td>3378.0</td>\n",
       "      <td>0.073416</td>\n",
       "    </tr>\n",
       "    <tr>\n",
       "      <th>50 - 59</th>\n",
       "      <td>3703.0</td>\n",
       "      <td>252.0</td>\n",
       "      <td>3955.0</td>\n",
       "      <td>0.063717</td>\n",
       "    </tr>\n",
       "    <tr>\n",
       "      <th>60 - 69</th>\n",
       "      <td>2006.0</td>\n",
       "      <td>108.0</td>\n",
       "      <td>2114.0</td>\n",
       "      <td>0.051088</td>\n",
       "    </tr>\n",
       "    <tr>\n",
       "      <th>mayor a 70</th>\n",
       "      <td>151.0</td>\n",
       "      <td>4.0</td>\n",
       "      <td>155.0</td>\n",
       "      <td>0.025806</td>\n",
       "    </tr>\n",
       "    <tr>\n",
       "      <th rowspan=\"6\" valign=\"top\">1</th>\n",
       "      <th>19 - 29</th>\n",
       "      <td>770.0</td>\n",
       "      <td>94.0</td>\n",
       "      <td>864.0</td>\n",
       "      <td>0.108796</td>\n",
       "    </tr>\n",
       "    <tr>\n",
       "      <th>30 - 39</th>\n",
       "      <td>1686.0</td>\n",
       "      <td>190.0</td>\n",
       "      <td>1876.0</td>\n",
       "      <td>0.101279</td>\n",
       "    </tr>\n",
       "    <tr>\n",
       "      <th>40 - 49</th>\n",
       "      <td>1249.0</td>\n",
       "      <td>109.0</td>\n",
       "      <td>1358.0</td>\n",
       "      <td>0.080265</td>\n",
       "    </tr>\n",
       "    <tr>\n",
       "      <th>50 - 59</th>\n",
       "      <td>451.0</td>\n",
       "      <td>37.0</td>\n",
       "      <td>488.0</td>\n",
       "      <td>0.075820</td>\n",
       "    </tr>\n",
       "    <tr>\n",
       "      <th>60 - 69</th>\n",
       "      <td>143.0</td>\n",
       "      <td>6.0</td>\n",
       "      <td>149.0</td>\n",
       "      <td>0.040268</td>\n",
       "    </tr>\n",
       "    <tr>\n",
       "      <th>mayor a 70</th>\n",
       "      <td>9.0</td>\n",
       "      <td>1.0</td>\n",
       "      <td>10.0</td>\n",
       "      <td>0.100000</td>\n",
       "    </tr>\n",
       "    <tr>\n",
       "      <th rowspan=\"5\" valign=\"top\">2</th>\n",
       "      <th>19 - 29</th>\n",
       "      <td>295.0</td>\n",
       "      <td>40.0</td>\n",
       "      <td>335.0</td>\n",
       "      <td>0.119403</td>\n",
       "    </tr>\n",
       "    <tr>\n",
       "      <th>30 - 39</th>\n",
       "      <td>1046.0</td>\n",
       "      <td>111.0</td>\n",
       "      <td>1157.0</td>\n",
       "      <td>0.095938</td>\n",
       "    </tr>\n",
       "    <tr>\n",
       "      <th>40 - 49</th>\n",
       "      <td>463.0</td>\n",
       "      <td>41.0</td>\n",
       "      <td>504.0</td>\n",
       "      <td>0.081349</td>\n",
       "    </tr>\n",
       "    <tr>\n",
       "      <th>50 - 59</th>\n",
       "      <td>76.0</td>\n",
       "      <td>6.0</td>\n",
       "      <td>82.0</td>\n",
       "      <td>0.073171</td>\n",
       "    </tr>\n",
       "    <tr>\n",
       "      <th>60 - 69</th>\n",
       "      <td>11.0</td>\n",
       "      <td>NaN</td>\n",
       "      <td>NaN</td>\n",
       "      <td>NaN</td>\n",
       "    </tr>\n",
       "    <tr>\n",
       "      <th rowspan=\"5\" valign=\"top\">3</th>\n",
       "      <th>19 - 29</th>\n",
       "      <td>33.0</td>\n",
       "      <td>3.0</td>\n",
       "      <td>36.0</td>\n",
       "      <td>0.083333</td>\n",
       "    </tr>\n",
       "    <tr>\n",
       "      <th>30 - 39</th>\n",
       "      <td>176.0</td>\n",
       "      <td>17.0</td>\n",
       "      <td>193.0</td>\n",
       "      <td>0.088083</td>\n",
       "    </tr>\n",
       "    <tr>\n",
       "      <th>40 - 49</th>\n",
       "      <td>78.0</td>\n",
       "      <td>7.0</td>\n",
       "      <td>85.0</td>\n",
       "      <td>0.082353</td>\n",
       "    </tr>\n",
       "    <tr>\n",
       "      <th>50 - 59</th>\n",
       "      <td>10.0</td>\n",
       "      <td>NaN</td>\n",
       "      <td>NaN</td>\n",
       "      <td>NaN</td>\n",
       "    </tr>\n",
       "    <tr>\n",
       "      <th>60 - 69</th>\n",
       "      <td>1.0</td>\n",
       "      <td>NaN</td>\n",
       "      <td>NaN</td>\n",
       "      <td>NaN</td>\n",
       "    </tr>\n",
       "    <tr>\n",
       "      <th rowspan=\"4\" valign=\"top\">4</th>\n",
       "      <th>19 - 29</th>\n",
       "      <td>3.0</td>\n",
       "      <td>1.0</td>\n",
       "      <td>4.0</td>\n",
       "      <td>0.250000</td>\n",
       "    </tr>\n",
       "    <tr>\n",
       "      <th>30 - 39</th>\n",
       "      <td>25.0</td>\n",
       "      <td>1.0</td>\n",
       "      <td>26.0</td>\n",
       "      <td>0.038462</td>\n",
       "    </tr>\n",
       "    <tr>\n",
       "      <th>40 - 49</th>\n",
       "      <td>7.0</td>\n",
       "      <td>1.0</td>\n",
       "      <td>8.0</td>\n",
       "      <td>0.125000</td>\n",
       "    </tr>\n",
       "    <tr>\n",
       "      <th>50 - 59</th>\n",
       "      <td>NaN</td>\n",
       "      <td>1.0</td>\n",
       "      <td>NaN</td>\n",
       "      <td>NaN</td>\n",
       "    </tr>\n",
       "    <tr>\n",
       "      <th rowspan=\"3\" valign=\"top\">5</th>\n",
       "      <th>30 - 39</th>\n",
       "      <td>7.0</td>\n",
       "      <td>NaN</td>\n",
       "      <td>NaN</td>\n",
       "      <td>NaN</td>\n",
       "    </tr>\n",
       "    <tr>\n",
       "      <th>40 - 49</th>\n",
       "      <td>1.0</td>\n",
       "      <td>NaN</td>\n",
       "      <td>NaN</td>\n",
       "      <td>NaN</td>\n",
       "    </tr>\n",
       "    <tr>\n",
       "      <th>50 - 59</th>\n",
       "      <td>1.0</td>\n",
       "      <td>NaN</td>\n",
       "      <td>NaN</td>\n",
       "      <td>NaN</td>\n",
       "    </tr>\n",
       "  </tbody>\n",
       "</table>\n",
       "</div>"
      ],
      "text/plain": [
       "debt                      0      1   total      tasa\n",
       "children categ_edad                                 \n",
       "0        19 - 29     1669.0  204.0  1873.0  0.108916\n",
       "         30 - 39     2061.0  217.0  2278.0  0.095259\n",
       "         40 - 49     3130.0  248.0  3378.0  0.073416\n",
       "         50 - 59     3703.0  252.0  3955.0  0.063717\n",
       "         60 - 69     2006.0  108.0  2114.0  0.051088\n",
       "         mayor a 70   151.0    4.0   155.0  0.025806\n",
       "1        19 - 29      770.0   94.0   864.0  0.108796\n",
       "         30 - 39     1686.0  190.0  1876.0  0.101279\n",
       "         40 - 49     1249.0  109.0  1358.0  0.080265\n",
       "         50 - 59      451.0   37.0   488.0  0.075820\n",
       "         60 - 69      143.0    6.0   149.0  0.040268\n",
       "         mayor a 70     9.0    1.0    10.0  0.100000\n",
       "2        19 - 29      295.0   40.0   335.0  0.119403\n",
       "         30 - 39     1046.0  111.0  1157.0  0.095938\n",
       "         40 - 49      463.0   41.0   504.0  0.081349\n",
       "         50 - 59       76.0    6.0    82.0  0.073171\n",
       "         60 - 69       11.0    NaN     NaN       NaN\n",
       "3        19 - 29       33.0    3.0    36.0  0.083333\n",
       "         30 - 39      176.0   17.0   193.0  0.088083\n",
       "         40 - 49       78.0    7.0    85.0  0.082353\n",
       "         50 - 59       10.0    NaN     NaN       NaN\n",
       "         60 - 69        1.0    NaN     NaN       NaN\n",
       "4        19 - 29        3.0    1.0     4.0  0.250000\n",
       "         30 - 39       25.0    1.0    26.0  0.038462\n",
       "         40 - 49        7.0    1.0     8.0  0.125000\n",
       "         50 - 59        NaN    1.0     NaN       NaN\n",
       "5        30 - 39        7.0    NaN     NaN       NaN\n",
       "         40 - 49        1.0    NaN     NaN       NaN\n",
       "         50 - 59        1.0    NaN     NaN       NaN"
      ]
     },
     "execution_count": 89,
     "metadata": {},
     "output_type": "execute_result"
    }
   ],
   "source": [
    "tabla_1_2=dataset.pivot_table(index=('children','categ_edad'), columns='debt', aggfunc='count')['categ_purpose']\n",
    "tabla_1_2['total']=tabla_1_2[0]+tabla_1_2[1]\n",
    "tabla_1_2['tasa']=tabla_1_2[1]/tabla_1_2['total']\n",
    "tabla_1_2"
   ]
  },
  {
   "cell_type": "markdown",
   "metadata": {},
   "source": [
    "**Conclusión**\n",
    "\n",
    "Debido a la poca diferencia de porcentaje no se puede establecer alguna correlación entre la cantidad de hijos y pagar a tiempo; sin embargo, al hacer una segunda tabla incluyendo la categorización de edades se aprecia que mientras menos edad se tenga, hay más probabilidad de deuda."
   ]
  },
  {
   "cell_type": "markdown",
   "metadata": {},
   "source": [
    "**¿Existe una correlación entre la situación familiar y el pago a tiempo?**"
   ]
  },
  {
   "cell_type": "code",
   "execution_count": 90,
   "metadata": {},
   "outputs": [
    {
     "data": {
      "text/html": [
       "<div>\n",
       "<style scoped>\n",
       "    .dataframe tbody tr th:only-of-type {\n",
       "        vertical-align: middle;\n",
       "    }\n",
       "\n",
       "    .dataframe tbody tr th {\n",
       "        vertical-align: top;\n",
       "    }\n",
       "\n",
       "    .dataframe thead th {\n",
       "        text-align: right;\n",
       "    }\n",
       "</style>\n",
       "<table border=\"1\" class=\"dataframe\">\n",
       "  <thead>\n",
       "    <tr style=\"text-align: right;\">\n",
       "      <th>debt</th>\n",
       "      <th>0</th>\n",
       "      <th>1</th>\n",
       "      <th>total</th>\n",
       "      <th>tasa</th>\n",
       "    </tr>\n",
       "    <tr>\n",
       "      <th>family_status</th>\n",
       "      <th></th>\n",
       "      <th></th>\n",
       "      <th></th>\n",
       "      <th></th>\n",
       "    </tr>\n",
       "  </thead>\n",
       "  <tbody>\n",
       "    <tr>\n",
       "      <th>civil partnership</th>\n",
       "      <td>3763</td>\n",
       "      <td>388</td>\n",
       "      <td>4151</td>\n",
       "      <td>0.093471</td>\n",
       "    </tr>\n",
       "    <tr>\n",
       "      <th>married</th>\n",
       "      <td>11408</td>\n",
       "      <td>931</td>\n",
       "      <td>12339</td>\n",
       "      <td>0.075452</td>\n",
       "    </tr>\n",
       "    <tr>\n",
       "      <th>single</th>\n",
       "      <td>3646</td>\n",
       "      <td>359</td>\n",
       "      <td>4005</td>\n",
       "      <td>0.089638</td>\n",
       "    </tr>\n",
       "    <tr>\n",
       "      <th>widow / widower</th>\n",
       "      <td>896</td>\n",
       "      <td>63</td>\n",
       "      <td>959</td>\n",
       "      <td>0.065693</td>\n",
       "    </tr>\n",
       "  </tbody>\n",
       "</table>\n",
       "</div>"
      ],
      "text/plain": [
       "debt                   0    1  total      tasa\n",
       "family_status                                 \n",
       "civil partnership   3763  388   4151  0.093471\n",
       "married            11408  931  12339  0.075452\n",
       "single              3646  359   4005  0.089638\n",
       "widow / widower      896   63    959  0.065693"
      ]
     },
     "execution_count": 90,
     "metadata": {},
     "output_type": "execute_result"
    }
   ],
   "source": [
    "tabla_2=clasificacion('family_status')['categ_edad']\n",
    "tabla_2['total']=tabla_2[0]+tabla_2[1]\n",
    "tabla_2['tasa']=tabla_2[1]/tabla_2['total']\n",
    "tabla_2"
   ]
  },
  {
   "cell_type": "markdown",
   "metadata": {},
   "source": [
    "**Conclusión**\n",
    "\n",
    "La situación familiar no parece influir en el pago a tiempo, salvo en el caso de las personas viudas que tienen una ligera disminución en la tasa por lo que serían menos probables de endeudarse."
   ]
  },
  {
   "cell_type": "markdown",
   "metadata": {},
   "source": [
    "**¿Existe una correlación entre el nivel de ingresos y el pago a tiempo?**"
   ]
  },
  {
   "cell_type": "code",
   "execution_count": 91,
   "metadata": {},
   "outputs": [
    {
     "data": {
      "text/html": [
       "<div>\n",
       "<style scoped>\n",
       "    .dataframe tbody tr th:only-of-type {\n",
       "        vertical-align: middle;\n",
       "    }\n",
       "\n",
       "    .dataframe tbody tr th {\n",
       "        vertical-align: top;\n",
       "    }\n",
       "\n",
       "    .dataframe thead th {\n",
       "        text-align: right;\n",
       "    }\n",
       "</style>\n",
       "<table border=\"1\" class=\"dataframe\">\n",
       "  <thead>\n",
       "    <tr style=\"text-align: right;\">\n",
       "      <th>debt</th>\n",
       "      <th>0</th>\n",
       "      <th>1</th>\n",
       "      <th>total</th>\n",
       "      <th>tasa</th>\n",
       "    </tr>\n",
       "    <tr>\n",
       "      <th>cuartil_total_income</th>\n",
       "      <th></th>\n",
       "      <th></th>\n",
       "      <th></th>\n",
       "      <th></th>\n",
       "    </tr>\n",
       "  </thead>\n",
       "  <tbody>\n",
       "    <tr>\n",
       "      <th>1er cuartil</th>\n",
       "      <td>4772</td>\n",
       "      <td>592</td>\n",
       "      <td>5364</td>\n",
       "      <td>0.110365</td>\n",
       "    </tr>\n",
       "    <tr>\n",
       "      <th>2do cuartil</th>\n",
       "      <td>4887</td>\n",
       "      <td>476</td>\n",
       "      <td>5363</td>\n",
       "      <td>0.088756</td>\n",
       "    </tr>\n",
       "    <tr>\n",
       "      <th>3er cuartil</th>\n",
       "      <td>5209</td>\n",
       "      <td>356</td>\n",
       "      <td>5565</td>\n",
       "      <td>0.063971</td>\n",
       "    </tr>\n",
       "    <tr>\n",
       "      <th>4to cuartil</th>\n",
       "      <td>4845</td>\n",
       "      <td>317</td>\n",
       "      <td>5162</td>\n",
       "      <td>0.061410</td>\n",
       "    </tr>\n",
       "  </tbody>\n",
       "</table>\n",
       "</div>"
      ],
      "text/plain": [
       "debt                     0    1  total      tasa\n",
       "cuartil_total_income                            \n",
       "1er cuartil           4772  592   5364  0.110365\n",
       "2do cuartil           4887  476   5363  0.088756\n",
       "3er cuartil           5209  356   5565  0.063971\n",
       "4to cuartil           4845  317   5162  0.061410"
      ]
     },
     "execution_count": 91,
     "metadata": {},
     "output_type": "execute_result"
    }
   ],
   "source": [
    "tabla_3=clasificacion('cuartil_total_income')['categ_edad']\n",
    "tabla_3['total']=tabla_3[0]+tabla_3[1]\n",
    "tabla_3['tasa']=tabla_3[1]/tabla_3['total']\n",
    "tabla_3"
   ]
  },
  {
   "cell_type": "markdown",
   "metadata": {},
   "source": [
    "**Conclusión**\n",
    "\n",
    "Las personas que se encuentran en el primer cuartil de ganancias totales presentan 11.08 % de poseer deudas. A medida que aumentan las ganancias totales, disminuye la tasa de deudas."
   ]
  },
  {
   "cell_type": "markdown",
   "metadata": {},
   "source": [
    "**¿Cómo afecta el propósito del crédito a la tasa de incumplimiento?**"
   ]
  },
  {
   "cell_type": "code",
   "execution_count": 92,
   "metadata": {},
   "outputs": [
    {
     "data": {
      "text/html": [
       "<div>\n",
       "<style scoped>\n",
       "    .dataframe tbody tr th:only-of-type {\n",
       "        vertical-align: middle;\n",
       "    }\n",
       "\n",
       "    .dataframe tbody tr th {\n",
       "        vertical-align: top;\n",
       "    }\n",
       "\n",
       "    .dataframe thead th {\n",
       "        text-align: right;\n",
       "    }\n",
       "</style>\n",
       "<table border=\"1\" class=\"dataframe\">\n",
       "  <thead>\n",
       "    <tr style=\"text-align: right;\">\n",
       "      <th>debt</th>\n",
       "      <th>0</th>\n",
       "      <th>1</th>\n",
       "      <th>total</th>\n",
       "      <th>tasa</th>\n",
       "    </tr>\n",
       "    <tr>\n",
       "      <th>categ_purpose</th>\n",
       "      <th></th>\n",
       "      <th></th>\n",
       "      <th></th>\n",
       "      <th></th>\n",
       "    </tr>\n",
       "  </thead>\n",
       "  <tbody>\n",
       "    <tr>\n",
       "      <th>business</th>\n",
       "      <td>3008</td>\n",
       "      <td>256</td>\n",
       "      <td>3264</td>\n",
       "      <td>0.078431</td>\n",
       "    </tr>\n",
       "    <tr>\n",
       "      <th>car</th>\n",
       "      <td>3451</td>\n",
       "      <td>361</td>\n",
       "      <td>3812</td>\n",
       "      <td>0.094701</td>\n",
       "    </tr>\n",
       "    <tr>\n",
       "      <th>education</th>\n",
       "      <td>3643</td>\n",
       "      <td>370</td>\n",
       "      <td>4013</td>\n",
       "      <td>0.092200</td>\n",
       "    </tr>\n",
       "    <tr>\n",
       "      <th>housing</th>\n",
       "      <td>7021</td>\n",
       "      <td>526</td>\n",
       "      <td>7547</td>\n",
       "      <td>0.069697</td>\n",
       "    </tr>\n",
       "    <tr>\n",
       "      <th>wedding</th>\n",
       "      <td>2138</td>\n",
       "      <td>186</td>\n",
       "      <td>2324</td>\n",
       "      <td>0.080034</td>\n",
       "    </tr>\n",
       "  </tbody>\n",
       "</table>\n",
       "</div>"
      ],
      "text/plain": [
       "debt              0    1  total      tasa\n",
       "categ_purpose                            \n",
       "business       3008  256   3264  0.078431\n",
       "car            3451  361   3812  0.094701\n",
       "education      3643  370   4013  0.092200\n",
       "housing        7021  526   7547  0.069697\n",
       "wedding        2138  186   2324  0.080034"
      ]
     },
     "execution_count": 92,
     "metadata": {},
     "output_type": "execute_result"
    }
   ],
   "source": [
    "tabla_4=clasificacion('categ_purpose')['categ_edad']\n",
    "tabla_4['total']=tabla_4[0]+tabla_4[1]\n",
    "tabla_4['tasa']=tabla_4[1]/tabla_4['total']\n",
    "tabla_4"
   ]
  },
  {
   "cell_type": "markdown",
   "metadata": {},
   "source": [
    "**Conclusión**\n",
    "\n",
    "Las tasas presentan valores similares en cuanto a la categoría del propósito. Hay un ligero incremento de riesgo de deuda si el propósito es con fines educativos o relacionados a la adquisición o renovación de un auto, mientras que hay un menor riesgo si el propósito es para fines de vivienda."
   ]
  },
  {
   "cell_type": "markdown",
   "metadata": {},
   "source": [
    "# Conclusión general \n",
    "\n",
    "1. No hay una relación entre tener hijos y pagar un préstamo a tiempo.\n",
    "2. No hay una relación entre el estado civil y pagar un préstamo a tiempo; sin embargo, las personas viudas tienen menor capacidad de endeudarse que el resto.\n",
    "3. Existe una relación directa entre el nivel de ingresos y el pago de préstamos a tiempo. Mientras el nivel de ingresos aumenta, hay menor probabilidad de endeudamiento.\n",
    "4. Existe un mayor riesgo de deuda si el préstamo es para autos o fines educativos. Hay menor riesgo de deuda si es con fines de vivienda.\n",
    "5. Se eliminaron 71 filas con información duplicada que equivale al 0.32 % del total.\n",
    "6. Se reemplazó el 10.09 % de valores ausentes en las columnas 'days_employed' y 'total_income', los cuales fueron reemplazados por las medias y medianas, respecticamente de dichas columnas en función de 'income_type'.\n"
   ]
  },
  {
   "cell_type": "code",
   "execution_count": null,
   "metadata": {},
   "outputs": [],
   "source": []
  }
 ],
 "metadata": {
  "ExecuteTimeLog": [
   {
    "duration": 2741,
    "start_time": "2021-10-21T01:08:49.480Z"
   },
   {
    "duration": 52,
    "start_time": "2021-10-21T01:08:53.315Z"
   },
   {
    "duration": 49,
    "start_time": "2021-10-21T01:08:57.432Z"
   },
   {
    "duration": 70,
    "start_time": "2021-10-21T01:09:07.706Z"
   }
  ],
  "kernelspec": {
   "display_name": "Python 3 (ipykernel)",
   "language": "python",
   "name": "python3"
  },
  "language_info": {
   "codemirror_mode": {
    "name": "ipython",
    "version": 3
   },
   "file_extension": ".py",
   "mimetype": "text/x-python",
   "name": "python",
   "nbconvert_exporter": "python",
   "pygments_lexer": "ipython3",
   "version": "3.9.5"
  },
  "toc": {
   "base_numbering": 1,
   "nav_menu": {},
   "number_sections": true,
   "sideBar": true,
   "skip_h1_title": true,
   "title_cell": "Table of Contents",
   "title_sidebar": "Contents",
   "toc_cell": false,
   "toc_position": {
    "height": "calc(100% - 180px)",
    "left": "10px",
    "top": "150px",
    "width": "365.764px"
   },
   "toc_section_display": true,
   "toc_window_display": true
  }
 },
 "nbformat": 4,
 "nbformat_minor": 2
}
